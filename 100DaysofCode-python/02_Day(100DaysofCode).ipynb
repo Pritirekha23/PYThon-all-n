{
 "cells": [
  {
   "cell_type": "markdown",
   "id": "d1e7b2bb",
   "metadata": {},
   "source": [
    "## 02_Day of 100DaysofCode"
   ]
  },
  {
   "cell_type": "code",
   "execution_count": null,
   "id": "2b6e6734",
   "metadata": {},
   "outputs": [],
   "source": [
    "# Datatypes"
   ]
  },
  {
   "cell_type": "code",
   "execution_count": 2,
   "id": "9c9d241d",
   "metadata": {},
   "outputs": [
    {
     "name": "stdout",
     "output_type": "stream",
     "text": [
      "<class 'int'>\n"
     ]
    }
   ],
   "source": [
    "# Numeric\n",
    "\n",
    "# int\n",
    "a=10\n",
    "print(type(a))"
   ]
  },
  {
   "cell_type": "code",
   "execution_count": 3,
   "id": "e47fe56e",
   "metadata": {},
   "outputs": [
    {
     "name": "stdout",
     "output_type": "stream",
     "text": [
      "0b1010\n"
     ]
    }
   ],
   "source": [
    "#convert decimal to binary\n",
    "# 0b represent it is binary \n",
    "print(bin(10))"
   ]
  },
  {
   "cell_type": "code",
   "execution_count": 4,
   "id": "8a8db51c",
   "metadata": {},
   "outputs": [
    {
     "name": "stdout",
     "output_type": "stream",
     "text": [
      "0b1000\n"
     ]
    }
   ],
   "source": [
    "#convert octal to binary\n",
    "# 0o represnt octal\n",
    "print(bin(0o10))"
   ]
  },
  {
   "cell_type": "code",
   "execution_count": 6,
   "id": "0d26493c",
   "metadata": {},
   "outputs": [
    {
     "name": "stdout",
     "output_type": "stream",
     "text": [
      "0o12\n"
     ]
    }
   ],
   "source": [
    "#convert decimal to octal\n",
    "print(oct(10))"
   ]
  },
  {
   "cell_type": "code",
   "execution_count": 9,
   "id": "800dc57f",
   "metadata": {},
   "outputs": [
    {
     "name": "stdout",
     "output_type": "stream",
     "text": [
      "0o2\n"
     ]
    }
   ],
   "source": [
    "#convert binary to octal\n",
    "print(oct(0b10))"
   ]
  },
  {
   "cell_type": "code",
   "execution_count": 12,
   "id": "50de8958",
   "metadata": {},
   "outputs": [
    {
     "name": "stdout",
     "output_type": "stream",
     "text": [
      "0x3e8\n"
     ]
    }
   ],
   "source": [
    "#convert decimal to hexadecimal\n",
    "print(hex(1000))"
   ]
  },
  {
   "cell_type": "code",
   "execution_count": 14,
   "id": "a40f3446",
   "metadata": {},
   "outputs": [
    {
     "name": "stdout",
     "output_type": "stream",
     "text": [
      "0x40\n"
     ]
    }
   ],
   "source": [
    "#convert octal to hexadecimal\n",
    "print(hex(0o100))"
   ]
  },
  {
   "cell_type": "code",
   "execution_count": null,
   "id": "03674ebc",
   "metadata": {},
   "outputs": [],
   "source": [
    "# float"
   ]
  },
  {
   "cell_type": "code",
   "execution_count": 15,
   "id": "907e76bf",
   "metadata": {},
   "outputs": [
    {
     "name": "stdout",
     "output_type": "stream",
     "text": [
      "<class 'float'>\n"
     ]
    }
   ],
   "source": [
    "sgpa=7.83\n",
    "print(type(sgpa))"
   ]
  },
  {
   "cell_type": "code",
   "execution_count": null,
   "id": "fc3507d6",
   "metadata": {},
   "outputs": [],
   "source": [
    "#complex\n",
    "\n",
    "# It has two parts real part and imaginary part.\n",
    "# represented as a+bj"
   ]
  },
  {
   "cell_type": "code",
   "execution_count": 16,
   "id": "07f58d9b",
   "metadata": {},
   "outputs": [
    {
     "name": "stdout",
     "output_type": "stream",
     "text": [
      "<class 'complex'>\n"
     ]
    }
   ],
   "source": [
    "x=2+3.2j\n",
    "print(type(x))"
   ]
  },
  {
   "cell_type": "markdown",
   "id": "1cfb3b8f",
   "metadata": {},
   "source": [
    "NOTE:\n",
    "In real partwe can set all type(binary,octal,decimal,hexadecimal)but in imaginary part except decimal number nothing is accepted."
   ]
  },
  {
   "cell_type": "code",
   "execution_count": 17,
   "id": "2159c9e1",
   "metadata": {},
   "outputs": [
    {
     "name": "stdout",
     "output_type": "stream",
     "text": [
      "(5+47.2j)\n"
     ]
    }
   ],
   "source": [
    "# Operations on complex number:\n",
    "\n",
    "# addition\n",
    "a=2+3j\n",
    "b=3+44.2j\n",
    "c=a+b\n",
    "print(c)"
   ]
  },
  {
   "cell_type": "code",
   "execution_count": 18,
   "id": "496ce894",
   "metadata": {},
   "outputs": [
    {
     "name": "stdout",
     "output_type": "stream",
     "text": [
      "(-1-41.2j)\n"
     ]
    }
   ],
   "source": [
    "# substarction\n",
    "a=2+3j\n",
    "b=3+44.2j\n",
    "c=a-b\n",
    "print(c)"
   ]
  },
  {
   "cell_type": "code",
   "execution_count": 23,
   "id": "09eda820",
   "metadata": {},
   "outputs": [
    {
     "name": "stdout",
     "output_type": "stream",
     "text": [
      "(-126.60000000000002+97.4j)\n"
     ]
    }
   ],
   "source": [
    "# multiplication\n",
    "a=2+3j\n",
    "b=3+44.2j\n",
    "c=a*b\n",
    "print(c)"
   ]
  },
  {
   "cell_type": "code",
   "execution_count": 24,
   "id": "b9c64c8c",
   "metadata": {},
   "outputs": [
    {
     "name": "stdout",
     "output_type": "stream",
     "text": [
      "(0.07061916602127745-0.040455712713487954j)\n"
     ]
    }
   ],
   "source": [
    "# division\n",
    "a=2+3j\n",
    "b=3+44.2j\n",
    "c=a/b\n",
    "print(c)"
   ]
  },
  {
   "cell_type": "code",
   "execution_count": 26,
   "id": "41eb0a29",
   "metadata": {},
   "outputs": [
    {
     "ename": "TypeError",
     "evalue": "can't mod complex numbers.",
     "output_type": "error",
     "traceback": [
      "\u001b[1;31m---------------------------------------------------------\u001b[0m",
      "\u001b[1;31mTypeError\u001b[0m               Traceback (most recent call last)",
      "Input \u001b[1;32mIn [26]\u001b[0m, in \u001b[0;36m<cell line: 4>\u001b[1;34m()\u001b[0m\n\u001b[0;32m      2\u001b[0m a\u001b[38;5;241m=\u001b[39m\u001b[38;5;241m2\u001b[39m\u001b[38;5;241m+\u001b[39m\u001b[38;5;241m3\u001b[39mj\n\u001b[0;32m      3\u001b[0m b\u001b[38;5;241m=\u001b[39m\u001b[38;5;241m3\u001b[39m\u001b[38;5;241m+\u001b[39m\u001b[38;5;241m44.2\u001b[39mj\n\u001b[1;32m----> 4\u001b[0m c\u001b[38;5;241m=\u001b[39m\u001b[43ma\u001b[49m\u001b[38;5;241;43m%\u001b[39;49m\u001b[43mb\u001b[49m\n\u001b[0;32m      5\u001b[0m \u001b[38;5;28mprint\u001b[39m(c)\n",
      "\u001b[1;31mTypeError\u001b[0m: can't mod complex numbers."
     ]
    }
   ],
   "source": [
    "# modulo (It is not supported by complex number)\n",
    "a=2+3j\n",
    "b=3+44.2j\n",
    "c=a%b\n",
    "print(c)"
   ]
  },
  {
   "cell_type": "code",
   "execution_count": 27,
   "id": "2f7a823b",
   "metadata": {},
   "outputs": [
    {
     "name": "stdout",
     "output_type": "stream",
     "text": [
      "2.0\n"
     ]
    }
   ],
   "source": [
    "# print data only in real part(it will print float format)\n",
    "x=2+3j\n",
    "print(x.real)"
   ]
  },
  {
   "cell_type": "code",
   "execution_count": 28,
   "id": "d82adaeb",
   "metadata": {},
   "outputs": [
    {
     "name": "stdout",
     "output_type": "stream",
     "text": [
      "3.0\n"
     ]
    }
   ],
   "source": [
    "# print data only in imaginary part(it will print in float format)\n",
    "x=2+3j\n",
    "print(x.imag)"
   ]
  },
  {
   "cell_type": "code",
   "execution_count": 29,
   "id": "f9e5a5cb",
   "metadata": {},
   "outputs": [
    {
     "name": "stdout",
     "output_type": "stream",
     "text": [
      "<class 'bool'>\n"
     ]
    }
   ],
   "source": [
    "# boolean\n",
    "# True=1 , False=0\n",
    "a=True\n",
    "print(type(a))\n"
   ]
  },
  {
   "cell_type": "code",
   "execution_count": 30,
   "id": "a4fa1690",
   "metadata": {},
   "outputs": [
    {
     "name": "stdout",
     "output_type": "stream",
     "text": [
      "True\n"
     ]
    }
   ],
   "source": [
    "x=7\n",
    "b=3\n",
    "c=b<x\n",
    "print(c)"
   ]
  },
  {
   "cell_type": "code",
   "execution_count": 31,
   "id": "75d49cf5",
   "metadata": {},
   "outputs": [
    {
     "name": "stdout",
     "output_type": "stream",
     "text": [
      "2\n"
     ]
    }
   ],
   "source": [
    "print(True+True+False)"
   ]
  },
  {
   "cell_type": "code",
   "execution_count": 32,
   "id": "4b63cce8",
   "metadata": {},
   "outputs": [
    {
     "name": "stdout",
     "output_type": "stream",
     "text": [
      "<class 'str'>\n"
     ]
    }
   ],
   "source": [
    "# string(collection of character)\n",
    "# str data type is used to represent string\n",
    "name='priti'\n",
    "print(type(name))"
   ]
  },
  {
   "cell_type": "markdown",
   "id": "18ea2b3e",
   "metadata": {},
   "source": [
    "NOTE:\n",
    " We can create a string by using  '',\"\",or \"\"\" \"\"\"\n",
    " \n",
    " If you want to represent multi line string then we have to use \"\"\" \"\"\""
   ]
  },
  {
   "cell_type": "code",
   "execution_count": 33,
   "id": "7354b273",
   "metadata": {},
   "outputs": [
    {
     "name": "stdout",
     "output_type": "stream",
     "text": [
      "This will represent\n",
      "    multi line string\n",
      "    in python\n"
     ]
    }
   ],
   "source": [
    "#ex-1\n",
    "s=\"\"\"This will represent\n",
    "    multi line string\n",
    "    in python\"\"\"\n",
    "print(s)"
   ]
  },
  {
   "cell_type": "code",
   "execution_count": 35,
   "id": "aa1d8586",
   "metadata": {},
   "outputs": [
    {
     "name": "stdout",
     "output_type": "stream",
     "text": [
      "This will represent\n",
      "    'multi line' string\n",
      "    in python\n"
     ]
    }
   ],
   "source": [
    "#ex-2\n",
    "# Displaying coatation inside string\n",
    "s=\"\"\"This will represent\n",
    "    'multi line' string\n",
    "    in python\"\"\"\n",
    "print(s)"
   ]
  },
  {
   "cell_type": "code",
   "execution_count": 37,
   "id": "1f53a1d9",
   "metadata": {},
   "outputs": [
    {
     "name": "stdout",
     "output_type": "stream",
     "text": [
      "This will represent\n",
      "    \"multi line\" string\n",
      "    in python\n"
     ]
    }
   ],
   "source": [
    "#ex-3\n",
    "# Displaying double coatation inside string\n",
    "s=\"\"\"This will represent\n",
    "    \"multi line\" string\n",
    "    in python\"\"\"\n",
    "print(s)"
   ]
  },
  {
   "cell_type": "code",
   "execution_count": 43,
   "id": "5c29c538",
   "metadata": {},
   "outputs": [
    {
     "ename": "SyntaxError",
     "evalue": "invalid syntax (3982424632.py, line 3)",
     "output_type": "error",
     "traceback": [
      "\u001b[1;36m  Input \u001b[1;32mIn [43]\u001b[1;36m\u001b[0m\n\u001b[1;33m    s=\"This will represent \"multi line\" string in python\"\u001b[0m\n\u001b[1;37m                            ^\u001b[0m\n\u001b[1;31mSyntaxError\u001b[0m\u001b[1;31m:\u001b[0m invalid syntax\n"
     ]
    }
   ],
   "source": [
    "#ex-4(error)\n",
    "# Displaying double coatation inside string\n",
    "s=\"This will represent \"multi line\" string in python\"\n",
    "print(s)"
   ]
  },
  {
   "cell_type": "code",
   "execution_count": 42,
   "id": "dbbb3ad2",
   "metadata": {},
   "outputs": [
    {
     "name": "stdout",
     "output_type": "stream",
     "text": [
      "This will represent \"multi line\" string in python\n"
     ]
    }
   ],
   "source": [
    "#ex-5\n",
    "# Displaying double coatation inside string\n",
    "s='This will represent \"multi line\" string in python'\n",
    "print(s)"
   ]
  },
  {
   "cell_type": "code",
   "execution_count": 45,
   "id": "10be8052",
   "metadata": {},
   "outputs": [
    {
     "name": "stdout",
     "output_type": "stream",
     "text": [
      "<memory at 0x0000027950E81580>\n",
      "<class 'memoryview'>\n"
     ]
    }
   ],
   "source": [
    "#memoryview\n",
    "x=memoryview(bytes(6))\n",
    "print(x)\n",
    "print(type(x))"
   ]
  },
  {
   "cell_type": "code",
   "execution_count": null,
   "id": "4e249d02",
   "metadata": {},
   "outputs": [],
   "source": []
  }
 ],
 "metadata": {
  "kernelspec": {
   "display_name": "Python 3 (ipykernel)",
   "language": "python",
   "name": "python3"
  },
  "language_info": {
   "codemirror_mode": {
    "name": "ipython",
    "version": 3
   },
   "file_extension": ".py",
   "mimetype": "text/x-python",
   "name": "python",
   "nbconvert_exporter": "python",
   "pygments_lexer": "ipython3",
   "version": "3.9.12"
  }
 },
 "nbformat": 4,
 "nbformat_minor": 5
}
