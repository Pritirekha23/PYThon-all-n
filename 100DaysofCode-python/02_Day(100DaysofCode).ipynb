{
 "cells": [
  {
   "cell_type": "markdown",
   "id": "c8b6f2bf",
   "metadata": {},
   "source": [
    "## 02_Day of 100DaysofCode"
   ]
  },
  {
   "cell_type": "code",
   "execution_count": null,
   "id": "65eaab56",
   "metadata": {},
   "outputs": [],
   "source": [
    "# Datatypes"
   ]
  },
  {
   "cell_type": "code",
   "execution_count": 2,
   "id": "7220526f",
   "metadata": {},
   "outputs": [
    {
     "name": "stdout",
     "output_type": "stream",
     "text": [
      "<class 'int'>\n"
     ]
    }
   ],
   "source": [
    "# Numeric\n",
    "\n",
    "# int\n",
    "a=10\n",
    "print(type(a))"
   ]
  },
  {
   "cell_type": "code",
   "execution_count": 3,
   "id": "23dfcf3d",
   "metadata": {},
   "outputs": [
    {
     "name": "stdout",
     "output_type": "stream",
     "text": [
      "0b1010\n"
     ]
    }
   ],
   "source": [
    "#convert decimal to binary\n",
    "# 0b represent it is binary \n",
    "print(bin(10))"
   ]
  },
  {
   "cell_type": "code",
   "execution_count": 4,
   "id": "492cc7bd",
   "metadata": {},
   "outputs": [
    {
     "name": "stdout",
     "output_type": "stream",
     "text": [
      "0b1000\n"
     ]
    }
   ],
   "source": [
    "#convert octal to binary\n",
    "# 0o represnt octal\n",
    "print(bin(0o10))"
   ]
  },
  {
   "cell_type": "code",
   "execution_count": 6,
   "id": "760ea134",
   "metadata": {},
   "outputs": [
    {
     "name": "stdout",
     "output_type": "stream",
     "text": [
      "0o12\n"
     ]
    }
   ],
   "source": [
    "#convert decimal to octal\n",
    "print(oct(10))"
   ]
  },
  {
   "cell_type": "code",
   "execution_count": 9,
   "id": "14a17ba7",
   "metadata": {},
   "outputs": [
    {
     "name": "stdout",
     "output_type": "stream",
     "text": [
      "0o2\n"
     ]
    }
   ],
   "source": [
    "#convert binary to octal\n",
    "print(oct(0b10))"
   ]
  },
  {
   "cell_type": "code",
   "execution_count": 12,
   "id": "91c99190",
   "metadata": {},
   "outputs": [
    {
     "name": "stdout",
     "output_type": "stream",
     "text": [
      "0x3e8\n"
     ]
    }
   ],
   "source": [
    "#convert decimal to hexadecimal\n",
    "print(hex(1000))"
   ]
  },
  {
   "cell_type": "code",
   "execution_count": 14,
   "id": "776e740a",
   "metadata": {},
   "outputs": [
    {
     "name": "stdout",
     "output_type": "stream",
     "text": [
      "0x40\n"
     ]
    }
   ],
   "source": [
    "#convert octal to hexadecimal\n",
    "print(hex(0o100))"
   ]
  },
  {
   "cell_type": "code",
   "execution_count": null,
   "id": "9adfacb5",
   "metadata": {},
   "outputs": [],
   "source": [
    "# float"
   ]
  },
  {
   "cell_type": "code",
   "execution_count": null,
   "id": "f7fd8ef1",
   "metadata": {},
   "outputs": [],
   "source": []
  },
  {
   "cell_type": "code",
   "execution_count": null,
   "id": "4b4d22b8",
   "metadata": {},
   "outputs": [],
   "source": []
  },
  {
   "cell_type": "code",
   "execution_count": null,
   "id": "d37d50a2",
   "metadata": {},
   "outputs": [],
   "source": []
  },
  {
   "cell_type": "code",
   "execution_count": null,
   "id": "7af0e19f",
   "metadata": {},
   "outputs": [],
   "source": []
  }
 ],
 "metadata": {
  "kernelspec": {
   "display_name": "Python 3 (ipykernel)",
   "language": "python",
   "name": "python3"
  },
  "language_info": {
   "codemirror_mode": {
    "name": "ipython",
    "version": 3
   },
   "file_extension": ".py",
   "mimetype": "text/x-python",
   "name": "python",
   "nbconvert_exporter": "python",
   "pygments_lexer": "ipython3",
   "version": "3.9.12"
  }
 },
 "nbformat": 4,
 "nbformat_minor": 5
}
