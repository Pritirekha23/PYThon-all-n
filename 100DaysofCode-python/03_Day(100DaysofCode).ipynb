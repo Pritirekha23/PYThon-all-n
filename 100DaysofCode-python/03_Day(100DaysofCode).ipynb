{
 "cells": [
  {
   "cell_type": "markdown",
   "id": "5e39a7b8",
   "metadata": {},
   "source": [
    "## 03_Day(100DaysofCode)"
   ]
  },
  {
   "cell_type": "markdown",
   "id": "c744fe42",
   "metadata": {},
   "source": [
    "# OPERATOR"
   ]
  },
  {
   "cell_type": "markdown",
   "id": "0b03696f",
   "metadata": {},
   "source": [
    "Operators are mathematical symbols which are used to perform various operations."
   ]
  },
  {
   "cell_type": "markdown",
   "id": "2a45043f",
   "metadata": {},
   "source": [
    "TYPES:\n",
    "Arithmetic operator\n",
    "Assignment operators\n",
    "Relational operator\n",
    "Logical operators\n",
    "Bitwise operators\n",
    "unary minus operator\n",
    "Identity operator"
   ]
  },
  {
   "cell_type": "markdown",
   "id": "7035e475",
   "metadata": {},
   "source": [
    "(1)Arithmetic operator\n",
    "Addition(+)\n",
    "substraction(-)\n",
    "Multiplication(*)\n",
    "Division(/)->It will give the quotient part in float format\n",
    "division also known as floaat division operator\n",
    "Floor Division(//) ->It will give the quotient part in int format \n",
    "floor division also known as integer division operator\n",
    "Exponent(**)->(to the power)\n",
    "Modulus(%)->It return remainder"
   ]
  },
  {
   "cell_type": "code",
   "execution_count": 4,
   "id": "6302a399",
   "metadata": {},
   "outputs": [
    {
     "name": "stdout",
     "output_type": "stream",
     "text": [
      "30\n",
      "20\n",
      "125\n",
      "5.0\n",
      "5\n",
      "9765625\n",
      "0\n"
     ]
    }
   ],
   "source": [
    "#ex-1\n",
    "a=25\n",
    "b=5\n",
    "print(a+b)\n",
    "print(a-b)\n",
    "print(a*b)\n",
    "print(a/b)\n",
    "print(a//b)\n",
    "print(a**b)\n",
    "print(a%b)"
   ]
  },
  {
   "cell_type": "code",
   "execution_count": 5,
   "id": "995471de",
   "metadata": {},
   "outputs": [
    {
     "ename": "TypeError",
     "evalue": "can only concatenate str (not \"int\") to str",
     "output_type": "error",
     "traceback": [
      "\u001b[1;31m-----------------------------------------------------------------\u001b[0m",
      "\u001b[1;31mTypeError\u001b[0m                       Traceback (most recent call last)",
      "Input \u001b[1;32mIn [5]\u001b[0m, in \u001b[0;36m<cell line: 3>\u001b[1;34m()\u001b[0m\n\u001b[0;32m      1\u001b[0m \u001b[38;5;66;03m#ex-2\u001b[39;00m\n\u001b[0;32m      2\u001b[0m name\u001b[38;5;241m=\u001b[39m\u001b[38;5;124m'\u001b[39m\u001b[38;5;124mpriti\u001b[39m\u001b[38;5;124m'\u001b[39m\n\u001b[1;32m----> 3\u001b[0m \u001b[38;5;28mprint\u001b[39m(\u001b[43mname\u001b[49m\u001b[38;5;241;43m+\u001b[39;49m\u001b[38;5;241;43m156\u001b[39;49m)\n",
      "\u001b[1;31mTypeError\u001b[0m: can only concatenate str (not \"int\") to str"
     ]
    }
   ],
   "source": [
    "#ex-2\n",
    "name='priti'\n",
    "print(name+156)"
   ]
  },
  {
   "cell_type": "code",
   "execution_count": 6,
   "id": "3fde0b37",
   "metadata": {},
   "outputs": [
    {
     "name": "stdout",
     "output_type": "stream",
     "text": [
      "priti156\n"
     ]
    }
   ],
   "source": [
    "# we can only concatinate a string only with a string\n",
    "#ex-3\n",
    "name='priti'\n",
    "print(name+'156')"
   ]
  },
  {
   "cell_type": "code",
   "execution_count": null,
   "id": "53385daf",
   "metadata": {},
   "outputs": [],
   "source": []
  },
  {
   "cell_type": "code",
   "execution_count": null,
   "id": "727a58ff",
   "metadata": {},
   "outputs": [],
   "source": []
  },
  {
   "cell_type": "code",
   "execution_count": null,
   "id": "94c2cc0e",
   "metadata": {},
   "outputs": [],
   "source": []
  }
 ],
 "metadata": {
  "kernelspec": {
   "display_name": "Python 3 (ipykernel)",
   "language": "python",
   "name": "python3"
  },
  "language_info": {
   "codemirror_mode": {
    "name": "ipython",
    "version": 3
   },
   "file_extension": ".py",
   "mimetype": "text/x-python",
   "name": "python",
   "nbconvert_exporter": "python",
   "pygments_lexer": "ipython3",
   "version": "3.9.12"
  }
 },
 "nbformat": 4,
 "nbformat_minor": 5
}
