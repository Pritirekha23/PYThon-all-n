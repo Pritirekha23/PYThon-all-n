{
 "cells": [
  {
   "cell_type": "markdown",
   "id": "77bfab16",
   "metadata": {},
   "source": [
    "## 03_Day(100DaysofCode)"
   ]
  },
  {
   "cell_type": "markdown",
   "id": "50d2f2c8",
   "metadata": {},
   "source": [
    "# OPERATOR"
   ]
  },
  {
   "cell_type": "markdown",
   "id": "a7480cb4",
   "metadata": {},
   "source": [
    "Operators are mathematical symbols which are used to perform various operations."
   ]
  },
  {
   "cell_type": "markdown",
   "id": "473b1146",
   "metadata": {},
   "source": [
    "TYPES:\n",
    "Arithmetic operator\n",
    "Assignment operators\n",
    "Relational operator\n",
    "Logical operators\n",
    "Bitwise operators\n",
    "unary minus operator\n",
    "Identity operator"
   ]
  },
  {
   "cell_type": "markdown",
   "id": "84221396",
   "metadata": {},
   "source": [
    "## (1)Arithmetic operator"
   ]
  },
  {
   "cell_type": "markdown",
   "id": "3379ff1f",
   "metadata": {},
   "source": [
    "(1)Arithmetic operator\n",
    "Addition(+)\n",
    "substraction(-)\n",
    "Multiplication(*)\n",
    "Division(/)->It will give the quotient part in float format\n",
    "division also known as float division operator\n",
    "Floor Division(//) ->It will give the quotient part in int format \n",
    "floor division also known as integer division operator\n",
    "Exponent(**)->(to the power)\n",
    "Modulus(%)->It return remainder"
   ]
  },
  {
   "cell_type": "code",
   "execution_count": 4,
   "id": "df7bba87",
   "metadata": {},
   "outputs": [
    {
     "name": "stdout",
     "output_type": "stream",
     "text": [
      "30\n",
      "20\n",
      "125\n",
      "5.0\n",
      "5\n",
      "9765625\n",
      "0\n"
     ]
    }
   ],
   "source": [
    "#ex-1\n",
    "a=25\n",
    "b=5\n",
    "print(a+b)\n",
    "print(a-b)\n",
    "print(a*b)\n",
    "print(a/b)\n",
    "print(a//b)\n",
    "print(a**b)\n",
    "print(a%b)"
   ]
  },
  {
   "cell_type": "code",
   "execution_count": 5,
   "id": "dea0cf21",
   "metadata": {},
   "outputs": [
    {
     "ename": "TypeError",
     "evalue": "can only concatenate str (not \"int\") to str",
     "output_type": "error",
     "traceback": [
      "\u001b[1;31m-----------------------------------------------------------------\u001b[0m",
      "\u001b[1;31mTypeError\u001b[0m                       Traceback (most recent call last)",
      "Input \u001b[1;32mIn [5]\u001b[0m, in \u001b[0;36m<cell line: 3>\u001b[1;34m()\u001b[0m\n\u001b[0;32m      1\u001b[0m \u001b[38;5;66;03m#ex-2\u001b[39;00m\n\u001b[0;32m      2\u001b[0m name\u001b[38;5;241m=\u001b[39m\u001b[38;5;124m'\u001b[39m\u001b[38;5;124mpriti\u001b[39m\u001b[38;5;124m'\u001b[39m\n\u001b[1;32m----> 3\u001b[0m \u001b[38;5;28mprint\u001b[39m(\u001b[43mname\u001b[49m\u001b[38;5;241;43m+\u001b[39;49m\u001b[38;5;241;43m156\u001b[39;49m)\n",
      "\u001b[1;31mTypeError\u001b[0m: can only concatenate str (not \"int\") to str"
     ]
    }
   ],
   "source": [
    "#ex-2\n",
    "name='priti'\n",
    "print(name+156)"
   ]
  },
  {
   "cell_type": "code",
   "execution_count": 6,
   "id": "5502d6f7",
   "metadata": {},
   "outputs": [
    {
     "name": "stdout",
     "output_type": "stream",
     "text": [
      "priti156\n"
     ]
    }
   ],
   "source": [
    "# we can only concatinate a string only with a string\n",
    "#ex-3\n",
    "name='priti'\n",
    "print(name+'156')"
   ]
  },
  {
   "cell_type": "code",
   "execution_count": 7,
   "id": "4afb1062",
   "metadata": {},
   "outputs": [
    {
     "name": "stdout",
     "output_type": "stream",
     "text": [
      "SurendraSurendraSurendraSurendraSurendra\n"
     ]
    }
   ],
   "source": [
    "# print a string multiple times using *\n",
    "name=\"Surendra\"\n",
    "print(name*5)"
   ]
  },
  {
   "cell_type": "markdown",
   "id": "ef803bfd",
   "metadata": {},
   "source": [
    "## (2)Assignment operators(=)"
   ]
  },
  {
   "cell_type": "markdown",
   "id": "f5555364",
   "metadata": {},
   "source": [
    "it is used to strore the right side value in the left side"
   ]
  },
  {
   "cell_type": "code",
   "execution_count": null,
   "id": "e531c827",
   "metadata": {},
   "outputs": [],
   "source": []
  },
  {
   "cell_type": "code",
   "execution_count": null,
   "id": "d7ca44ac",
   "metadata": {},
   "outputs": [],
   "source": []
  },
  {
   "cell_type": "code",
   "execution_count": null,
   "id": "735fffec",
   "metadata": {},
   "outputs": [],
   "source": []
  }
 ],
 "metadata": {
  "kernelspec": {
   "display_name": "Python 3 (ipykernel)",
   "language": "python",
   "name": "python3"
  },
  "language_info": {
   "codemirror_mode": {
    "name": "ipython",
    "version": 3
   },
   "file_extension": ".py",
   "mimetype": "text/x-python",
   "name": "python",
   "nbconvert_exporter": "python",
   "pygments_lexer": "ipython3",
   "version": "3.9.12"
  }
 },
 "nbformat": 4,
 "nbformat_minor": 5
}
