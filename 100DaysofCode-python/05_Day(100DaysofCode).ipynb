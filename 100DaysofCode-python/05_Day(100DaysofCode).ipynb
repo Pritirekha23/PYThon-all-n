{
 "cells": [
  {
   "cell_type": "markdown",
   "id": "f9f22bae",
   "metadata": {},
   "source": [
    "## 05_Day(100DaysofCode)"
   ]
  },
  {
   "cell_type": "markdown",
   "id": "d698c337",
   "metadata": {},
   "source": [
    "# Loop"
   ]
  },
  {
   "cell_type": "markdown",
   "id": "d96b1ebb",
   "metadata": {},
   "source": [
    "## While loop"
   ]
  },
  {
   "cell_type": "code",
   "execution_count": 3,
   "id": "4a596720",
   "metadata": {},
   "outputs": [
    {
     "name": "stdout",
     "output_type": "stream",
     "text": [
      "999\n",
      "777\n",
      "555\n"
     ]
    }
   ],
   "source": [
    "#ex-1\n",
    "# print the series like 999 777 555\n",
    "#here start=999 stop=555 step=222\n",
    "i=999\n",
    "while i>=555:\n",
    "    print(i)\n",
    "    i=i-222"
   ]
  },
  {
   "cell_type": "code",
   "execution_count": 11,
   "id": "d4679dc0",
   "metadata": {},
   "outputs": [
    {
     "name": "stdout",
     "output_type": "stream",
     "text": [
      "Enter m value5\n",
      "Enter n value20\n",
      "200\n"
     ]
    }
   ],
   "source": [
    "# wap to calculate sum of numbers from m to n\n",
    "\n",
    "m=int(input('Enter m value'))\n",
    "n=int(input('Enter n value'))\n",
    "sum=0\n",
    "while m<=n:\n",
    "    sum=sum+m\n",
    "    m=m+1\n",
    "    \n",
    "print(sum)"
   ]
  },
  {
   "cell_type": "code",
   "execution_count": null,
   "id": "a093b323",
   "metadata": {},
   "outputs": [],
   "source": []
  },
  {
   "cell_type": "code",
   "execution_count": null,
   "id": "c55b630d",
   "metadata": {},
   "outputs": [],
   "source": []
  },
  {
   "cell_type": "code",
   "execution_count": null,
   "id": "1af0e313",
   "metadata": {},
   "outputs": [],
   "source": []
  },
  {
   "cell_type": "code",
   "execution_count": null,
   "id": "60e81373",
   "metadata": {},
   "outputs": [],
   "source": []
  },
  {
   "cell_type": "code",
   "execution_count": null,
   "id": "dada85fd",
   "metadata": {},
   "outputs": [],
   "source": []
  },
  {
   "cell_type": "code",
   "execution_count": null,
   "id": "3d9b201a",
   "metadata": {},
   "outputs": [],
   "source": []
  }
 ],
 "metadata": {
  "kernelspec": {
   "display_name": "Python 3 (ipykernel)",
   "language": "python",
   "name": "python3"
  },
  "language_info": {
   "codemirror_mode": {
    "name": "ipython",
    "version": 3
   },
   "file_extension": ".py",
   "mimetype": "text/x-python",
   "name": "python",
   "nbconvert_exporter": "python",
   "pygments_lexer": "ipython3",
   "version": "3.9.12"
  }
 },
 "nbformat": 4,
 "nbformat_minor": 5
}
