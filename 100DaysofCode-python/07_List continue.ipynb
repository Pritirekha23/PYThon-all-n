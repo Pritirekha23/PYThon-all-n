{
 "cells": [
  {
   "cell_type": "markdown",
   "id": "f70ae6c2",
   "metadata": {},
   "source": [
    "07_list continue"
   ]
  },
  {
   "cell_type": "code",
   "execution_count": null,
   "id": "bd3ddd4d",
   "metadata": {},
   "outputs": [],
   "source": [
    "# Accessing of list element\n",
    "  # Index \n",
    "  # Slice operator"
   ]
  },
  {
   "cell_type": "code",
   "execution_count": 2,
   "id": "879f858b",
   "metadata": {},
   "outputs": [
    {
     "name": "stdout",
     "output_type": "stream",
     "text": [
      "priti\n",
      "2.3\n"
     ]
    }
   ],
   "source": [
    "# Accessing element by using index.\n",
    "l=[4,2.3,'priti','rutu']\n",
    "print(l[2])\n",
    "print(l[-3])"
   ]
  },
  {
   "cell_type": "code",
   "execution_count": 8,
   "id": "3054296e",
   "metadata": {},
   "outputs": [
    {
     "name": "stdout",
     "output_type": "stream",
     "text": [
      "[4, 2.3, 'priti', 'rutu', 55]\n",
      "[2.3]\n"
     ]
    }
   ],
   "source": [
    "# Accessing element by using slice operator\n",
    "l=[4,2.3,'priti','rutu',55]\n",
    "print(l[::])\n",
    "print(l[1:2])\n"
   ]
  },
  {
   "cell_type": "code",
   "execution_count": null,
   "id": "5cf6b941",
   "metadata": {},
   "outputs": [],
   "source": [
    "# 51"
   ]
  },
  {
   "cell_type": "code",
   "execution_count": null,
   "id": "d7426d77",
   "metadata": {},
   "outputs": [],
   "source": []
  },
  {
   "cell_type": "code",
   "execution_count": null,
   "id": "0e4787a8",
   "metadata": {},
   "outputs": [],
   "source": []
  },
  {
   "cell_type": "code",
   "execution_count": null,
   "id": "0a2aed08",
   "metadata": {},
   "outputs": [],
   "source": []
  }
 ],
 "metadata": {
  "kernelspec": {
   "display_name": "Python 3 (ipykernel)",
   "language": "python",
   "name": "python3"
  },
  "language_info": {
   "codemirror_mode": {
    "name": "ipython",
    "version": 3
   },
   "file_extension": ".py",
   "mimetype": "text/x-python",
   "name": "python",
   "nbconvert_exporter": "python",
   "pygments_lexer": "ipython3",
   "version": "3.9.12"
  }
 },
 "nbformat": 4,
 "nbformat_minor": 5
}
