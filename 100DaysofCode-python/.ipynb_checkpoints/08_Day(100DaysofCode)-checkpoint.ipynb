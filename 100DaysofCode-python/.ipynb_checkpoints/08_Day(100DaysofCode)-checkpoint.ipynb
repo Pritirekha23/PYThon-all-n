{
 "cells": [
  {
   "cell_type": "markdown",
   "id": "770e143d",
   "metadata": {},
   "source": [
    "08_List cont."
   ]
  },
  {
   "cell_type": "markdown",
   "id": "53553ce4",
   "metadata": {},
   "source": [
    "ASSIGNING (equals to ):-\n",
    "if we made any modification in the new list will  be reflected in the original list .\n",
    "Both list will pointing to same memory location "
   ]
  },
  {
   "cell_type": "code",
   "execution_count": 3,
   "id": "449a65ed",
   "metadata": {},
   "outputs": [
    {
     "name": "stdout",
     "output_type": "stream",
     "text": [
      "[23, 44, 66, 948, 77, 88]\n",
      "[23, 44, 66, 948, 77, 88]\n"
     ]
    }
   ],
   "source": [
    "l1=[23,44,66,948,77,88]\n",
    "l2=l1  #assigning\n",
    "print(l1)\n",
    "print(l2)"
   ]
  },
  {
   "cell_type": "code",
   "execution_count": 4,
   "id": "b32be228",
   "metadata": {},
   "outputs": [
    {
     "name": "stdout",
     "output_type": "stream",
     "text": [
      "2681532433920\n",
      "2681532433920\n"
     ]
    }
   ],
   "source": [
    "print(id(l1))\n",
    "print(id(l2))"
   ]
  },
  {
   "cell_type": "code",
   "execution_count": 5,
   "id": "d8a1bf7c",
   "metadata": {},
   "outputs": [
    {
     "name": "stdout",
     "output_type": "stream",
     "text": [
      "[23, 44, 900, 948, 77, 88]\n",
      "[23, 44, 900, 948, 77, 88]\n"
     ]
    }
   ],
   "source": [
    "l2[2]=900\n",
    "print(l1)\n",
    "print(l2)"
   ]
  },
  {
   "cell_type": "markdown",
   "id": "e2242ddc",
   "metadata": {},
   "source": [
    "## CONCATENATE OF LIST"
   ]
  },
  {
   "cell_type": "markdown",
   "id": "61902bda",
   "metadata": {},
   "source": [
    "jointing of list is known as Concatanation of list.\n",
    "+ operator  is used to concatenate list.\n",
    "we can concatenate multiple list\n",
    "u can only concatenate list"
   ]
  },
  {
   "cell_type": "code",
   "execution_count": 6,
   "id": "35618d9b",
   "metadata": {},
   "outputs": [
    {
     "name": "stdout",
     "output_type": "stream",
     "text": [
      "[23, 56, 98, 65, 'priti', '56', 88, 'arti', 44, 4.4, 88, 99]\n"
     ]
    }
   ],
   "source": [
    "l1=[23,56,98,65]\n",
    "l2=['priti','56',88,'arti']\n",
    "l3=[44,4.4,88,99]\n",
    "r=l1+l2+l3\n",
    "print(r)"
   ]
  },
  {
   "cell_type": "code",
   "execution_count": 7,
   "id": "bd5cafa4",
   "metadata": {},
   "outputs": [
    {
     "name": "stdout",
     "output_type": "stream",
     "text": [
      "enter your lucky number::8\n",
      "yes..your lucky number is present inside the list\n"
     ]
    }
   ],
   "source": [
    "#WAP TO CHECK WHETHER YOUR LUCKY NUMBER IS PRESENT INSIDE THE LIST OR NOT\n",
    "#by using in operator\n",
    "\n",
    "l=[2,4,6,8,10,12,14,16,18,20,22,24,26,28,30]\n",
    "choice=int(input('enter your lucky number::'))\n",
    "\n",
    "if choice in l:\n",
    "    print('yes..your lucky number is present inside the list')\n",
    "\n",
    "else:\n",
    "    print('no...your lucky number is not  present inside the list')"
   ]
  },
  {
   "cell_type": "code",
   "execution_count": null,
   "id": "a7dfffe5",
   "metadata": {},
   "outputs": [],
   "source": [
    "#WAP TO CHECK YOUR LUCKY NUMBER UNTIL MATCH YOUR LUCKY NUMBER WITH LIST ELEMENT\n",
    "\n",
    "\n",
    "l=[2,4,6,8,10,12,14,16,18,20,22,24,26,28,30]\n",
    "choice=int(input('enter your lucky number::'))\n",
    "\n",
    "while True:\n",
    "    if choice in l:\n",
    "        print('yes ur lucky number is present')\n",
    "        break\n",
    "    #if here we will not write break then it will print(yes ur lucky number is present) infinite\n",
    "    else:\n",
    "        print('sry ur lucky number is not present')\n",
    "        choice=int(input('enter your lucky number again::'))"
   ]
  }
 ],
 "metadata": {
  "kernelspec": {
   "display_name": "Python 3 (ipykernel)",
   "language": "python",
   "name": "python3"
  },
  "language_info": {
   "codemirror_mode": {
    "name": "ipython",
    "version": 3
   },
   "file_extension": ".py",
   "mimetype": "text/x-python",
   "name": "python",
   "nbconvert_exporter": "python",
   "pygments_lexer": "ipython3",
   "version": "3.9.12"
  }
 },
 "nbformat": 4,
 "nbformat_minor": 5
}
