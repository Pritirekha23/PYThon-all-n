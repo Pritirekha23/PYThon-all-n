{
 "cells": [
  {
   "cell_type": "markdown",
   "id": "7b0edb46",
   "metadata": {},
   "source": [
    "06_list in python"
   ]
  },
  {
   "cell_type": "markdown",
   "id": "c4242e41",
   "metadata": {},
   "source": [
    "## LIST"
   ]
  },
  {
   "cell_type": "markdown",
   "id": "3078690a",
   "metadata": {},
   "source": [
    "List is an inbuild data structure in python,which is used to store heterogeneous data items,also we xan store homogeneous data items."
   ]
  },
  {
   "cell_type": "code",
   "execution_count": 1,
   "id": "98a95798",
   "metadata": {},
   "outputs": [
    {
     "name": "stdout",
     "output_type": "stream",
     "text": [
      "Enter a list2,3,4,5\n",
      "(2, 3, 4, 5)\n"
     ]
    }
   ],
   "source": [
    "# Creation of list using eval\n",
    "l=eval((input('Enter a list')))\n",
    "print(l)"
   ]
  },
  {
   "cell_type": "code",
   "execution_count": 2,
   "id": "0275ae9b",
   "metadata": {},
   "outputs": [
    {
     "name": "stdout",
     "output_type": "stream",
     "text": [
      "[]\n"
     ]
    }
   ],
   "source": [
    "# Creation of empty list\n",
    "l=[]\n",
    "print(l)"
   ]
  },
  {
   "cell_type": "code",
   "execution_count": 3,
   "id": "d5d5b8d1",
   "metadata": {},
   "outputs": [
    {
     "name": "stdout",
     "output_type": "stream",
     "text": [
      "[5, 3, 4]\n"
     ]
    }
   ],
   "source": [
    "#Creation of list using list function\n",
    "l=list((5,3,4))\n",
    "print(l)"
   ]
  },
  {
   "cell_type": "code",
   "execution_count": 4,
   "id": "3d2cb1ca",
   "metadata": {},
   "outputs": [
    {
     "name": "stdout",
     "output_type": "stream",
     "text": [
      "[0, 1, 2, 3, 4]\n"
     ]
    }
   ],
   "source": [
    "# Creation of list using range function\n",
    "l=list(range(5))\n",
    "print(l)"
   ]
  },
  {
   "cell_type": "code",
   "execution_count": 5,
   "id": "bd9cc4f2",
   "metadata": {},
   "outputs": [
    {
     "name": "stdout",
     "output_type": "stream",
     "text": [
      "[4, 5, 55, 3]\n"
     ]
    }
   ],
   "source": [
    "# Creation of list directly\n",
    "l=[4,5,55,3]\n",
    "print(l)"
   ]
  },
  {
   "cell_type": "code",
   "execution_count": 7,
   "id": "78cfb9c3",
   "metadata": {},
   "outputs": [
    {
     "name": "stdout",
     "output_type": "stream",
     "text": [
      "['Hi', 'I', 'am', 'pritirekha', 'panda']\n"
     ]
    }
   ],
   "source": [
    "# Creation of list using split()\n",
    "  # whenever we will get a space split it\n",
    "l='Hi I am pritirekha panda'\n",
    "ll=l.split()\n",
    "print(ll)"
   ]
  },
  {
   "cell_type": "code",
   "execution_count": null,
   "id": "1612f527",
   "metadata": {},
   "outputs": [],
   "source": []
  }
 ],
 "metadata": {
  "kernelspec": {
   "display_name": "Python 3 (ipykernel)",
   "language": "python",
   "name": "python3"
  },
  "language_info": {
   "codemirror_mode": {
    "name": "ipython",
    "version": 3
   },
   "file_extension": ".py",
   "mimetype": "text/x-python",
   "name": "python",
   "nbconvert_exporter": "python",
   "pygments_lexer": "ipython3",
   "version": "3.9.12"
  }
 },
 "nbformat": 4,
 "nbformat_minor": 5
}
