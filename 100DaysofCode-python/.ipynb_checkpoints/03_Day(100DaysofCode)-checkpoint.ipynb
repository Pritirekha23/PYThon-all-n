{
 "cells": [
  {
   "cell_type": "markdown",
   "id": "0e95af0f",
   "metadata": {},
   "source": [
    "## 03_Day(100DaysofCode)"
   ]
  },
  {
   "cell_type": "markdown",
   "id": "2fb40b3c",
   "metadata": {},
   "source": [
    "# OPERATOR"
   ]
  },
  {
   "cell_type": "code",
   "execution_count": null,
   "id": "5ab1ce8a",
   "metadata": {},
   "outputs": [],
   "source": [
    "Operators are mathematical symbols which are used to perform various operations."
   ]
  },
  {
   "cell_type": "code",
   "execution_count": null,
   "id": "de0e9260",
   "metadata": {},
   "outputs": [],
   "source": []
  },
  {
   "cell_type": "code",
   "execution_count": null,
   "id": "d2bc8861",
   "metadata": {},
   "outputs": [],
   "source": []
  },
  {
   "cell_type": "code",
   "execution_count": null,
   "id": "3418a664",
   "metadata": {},
   "outputs": [],
   "source": []
  },
  {
   "cell_type": "code",
   "execution_count": null,
   "id": "a3ff0e15",
   "metadata": {},
   "outputs": [],
   "source": []
  }
 ],
 "metadata": {
  "kernelspec": {
   "display_name": "Python 3 (ipykernel)",
   "language": "python",
   "name": "python3"
  },
  "language_info": {
   "codemirror_mode": {
    "name": "ipython",
    "version": 3
   },
   "file_extension": ".py",
   "mimetype": "text/x-python",
   "name": "python",
   "nbconvert_exporter": "python",
   "pygments_lexer": "ipython3",
   "version": "3.9.12"
  }
 },
 "nbformat": 4,
 "nbformat_minor": 5
}
