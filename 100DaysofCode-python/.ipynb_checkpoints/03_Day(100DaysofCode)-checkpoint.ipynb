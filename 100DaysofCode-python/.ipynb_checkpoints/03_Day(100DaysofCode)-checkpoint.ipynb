{
 "cells": [
  {
   "cell_type": "markdown",
   "id": "2b2886a7",
   "metadata": {},
   "source": [
    "## 03_Day(100DaysofCode)"
   ]
  },
  {
   "cell_type": "markdown",
   "id": "1bcef985",
   "metadata": {},
   "source": [
    "# OPERATOR"
   ]
  },
  {
   "cell_type": "markdown",
   "id": "8b19e5c2",
   "metadata": {},
   "source": [
    "Operators are mathematical symbols which are used to perform various operations."
   ]
  },
  {
   "cell_type": "markdown",
   "id": "00558ca7",
   "metadata": {},
   "source": [
    "TYPES:\n",
    "Arithmetic operator\n",
    "Assignment operators\n",
    "Relational operator\n",
    "Logical operators\n",
    "Bitwise operators\n",
    "unary minus operator\n",
    "Identity operator"
   ]
  },
  {
   "cell_type": "markdown",
   "id": "43ed8e5c",
   "metadata": {},
   "source": [
    "(1)Arithmetic operator\n",
    "Addition(+)\n",
    "substraction(-)\n",
    "Multiplication(*)\n",
    "Division(/)->It will give the quotient part in float format\n",
    "division also known as floaat division operator\n",
    "Floor Division(//) ->It will give the quotient part in int format \n",
    "floor division also known as integer division operator\n",
    "Exponent(**)->(to the power)\n",
    "Modulus(%)->It return remainder"
   ]
  },
  {
   "cell_type": "code",
   "execution_count": null,
   "id": "8dc39fd9",
   "metadata": {},
   "outputs": [],
   "source": []
  },
  {
   "cell_type": "code",
   "execution_count": null,
   "id": "2ca81056",
   "metadata": {},
   "outputs": [],
   "source": []
  }
 ],
 "metadata": {
  "kernelspec": {
   "display_name": "Python 3 (ipykernel)",
   "language": "python",
   "name": "python3"
  },
  "language_info": {
   "codemirror_mode": {
    "name": "ipython",
    "version": 3
   },
   "file_extension": ".py",
   "mimetype": "text/x-python",
   "name": "python",
   "nbconvert_exporter": "python",
   "pygments_lexer": "ipython3",
   "version": "3.9.12"
  }
 },
 "nbformat": 4,
 "nbformat_minor": 5
}
