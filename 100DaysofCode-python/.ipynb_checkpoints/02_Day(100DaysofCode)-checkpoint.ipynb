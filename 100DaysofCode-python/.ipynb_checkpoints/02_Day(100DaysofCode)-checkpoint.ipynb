{
 "cells": [
  {
   "cell_type": "markdown",
   "id": "86ce3e51",
   "metadata": {},
   "source": [
    "## 02_Day of 100DaysofCode"
   ]
  },
  {
   "cell_type": "code",
   "execution_count": null,
   "id": "e38d2002",
   "metadata": {},
   "outputs": [],
   "source": [
    "# Datatypes"
   ]
  },
  {
   "cell_type": "code",
   "execution_count": 2,
   "id": "9fe11513",
   "metadata": {},
   "outputs": [
    {
     "name": "stdout",
     "output_type": "stream",
     "text": [
      "<class 'int'>\n"
     ]
    }
   ],
   "source": [
    "# Numeric\n",
    "\n",
    "# int\n",
    "a=10\n",
    "print(type(a))"
   ]
  },
  {
   "cell_type": "code",
   "execution_count": 3,
   "id": "4e2700d2",
   "metadata": {},
   "outputs": [
    {
     "name": "stdout",
     "output_type": "stream",
     "text": [
      "0b1010\n"
     ]
    }
   ],
   "source": [
    "#convert decimal to binary\n",
    "# 0b represent it is binary \n",
    "print(bin(10))"
   ]
  },
  {
   "cell_type": "code",
   "execution_count": 4,
   "id": "41b424e7",
   "metadata": {},
   "outputs": [
    {
     "name": "stdout",
     "output_type": "stream",
     "text": [
      "0b1000\n"
     ]
    }
   ],
   "source": [
    "#convert octal to binary\n",
    "# 0o represnt octal\n",
    "print(bin(0o10))"
   ]
  },
  {
   "cell_type": "code",
   "execution_count": 6,
   "id": "29e0912e",
   "metadata": {},
   "outputs": [
    {
     "name": "stdout",
     "output_type": "stream",
     "text": [
      "0o12\n"
     ]
    }
   ],
   "source": [
    "#convert decimal to octal\n",
    "print(oct(10))"
   ]
  },
  {
   "cell_type": "code",
   "execution_count": 9,
   "id": "97576f7b",
   "metadata": {},
   "outputs": [
    {
     "name": "stdout",
     "output_type": "stream",
     "text": [
      "0o2\n"
     ]
    }
   ],
   "source": [
    "#convert binary to octal\n",
    "print(oct(0b10))"
   ]
  },
  {
   "cell_type": "code",
   "execution_count": 12,
   "id": "5603a544",
   "metadata": {},
   "outputs": [
    {
     "name": "stdout",
     "output_type": "stream",
     "text": [
      "0x3e8\n"
     ]
    }
   ],
   "source": [
    "#convert decimal to hexadecimal\n",
    "print(hex(1000))"
   ]
  },
  {
   "cell_type": "code",
   "execution_count": 14,
   "id": "939e29ef",
   "metadata": {},
   "outputs": [
    {
     "name": "stdout",
     "output_type": "stream",
     "text": [
      "0x40\n"
     ]
    }
   ],
   "source": [
    "#convert octal to hexadecimal\n",
    "print(hex(0o100))"
   ]
  },
  {
   "cell_type": "code",
   "execution_count": null,
   "id": "aacd0946",
   "metadata": {},
   "outputs": [],
   "source": [
    "# float"
   ]
  },
  {
   "cell_type": "code",
   "execution_count": 15,
   "id": "81ccd162",
   "metadata": {},
   "outputs": [
    {
     "name": "stdout",
     "output_type": "stream",
     "text": [
      "<class 'float'>\n"
     ]
    }
   ],
   "source": [
    "sgpa=7.83\n",
    "print(type(sgpa))"
   ]
  },
  {
   "cell_type": "code",
   "execution_count": null,
   "id": "88a62334",
   "metadata": {},
   "outputs": [],
   "source": [
    "#complex\n",
    "\n",
    "# It has two parts real part and imaginary part.\n",
    "# represented as a+bj"
   ]
  },
  {
   "cell_type": "code",
   "execution_count": 16,
   "id": "61a10fd9",
   "metadata": {},
   "outputs": [
    {
     "name": "stdout",
     "output_type": "stream",
     "text": [
      "<class 'complex'>\n"
     ]
    }
   ],
   "source": [
    "x=2+3.2j\n",
    "print(type(x))"
   ]
  },
  {
   "cell_type": "markdown",
   "id": "c4d699a0",
   "metadata": {},
   "source": [
    "NOTE:\n",
    "In real partwe can set all type(binary,octal,decimal,hexadecimal)but in imaginary part except decimal number nothing is accepted."
   ]
  },
  {
   "cell_type": "code",
   "execution_count": 17,
   "id": "0e743eae",
   "metadata": {},
   "outputs": [
    {
     "name": "stdout",
     "output_type": "stream",
     "text": [
      "(5+47.2j)\n"
     ]
    }
   ],
   "source": [
    "# Operations on complex number:\n",
    "\n",
    "# addition\n",
    "a=2+3j\n",
    "b=3+44.2j\n",
    "c=a+b\n",
    "print(c)"
   ]
  },
  {
   "cell_type": "code",
   "execution_count": 18,
   "id": "616dfa94",
   "metadata": {},
   "outputs": [
    {
     "name": "stdout",
     "output_type": "stream",
     "text": [
      "(-1-41.2j)\n"
     ]
    }
   ],
   "source": [
    "# substarction\n",
    "a=2+3j\n",
    "b=3+44.2j\n",
    "c=a-b\n",
    "print(c)"
   ]
  },
  {
   "cell_type": "code",
   "execution_count": 23,
   "id": "15a72c8d",
   "metadata": {},
   "outputs": [
    {
     "name": "stdout",
     "output_type": "stream",
     "text": [
      "(-126.60000000000002+97.4j)\n"
     ]
    }
   ],
   "source": [
    "# multiplication\n",
    "a=2+3j\n",
    "b=3+44.2j\n",
    "c=a*b\n",
    "print(c)"
   ]
  },
  {
   "cell_type": "code",
   "execution_count": 24,
   "id": "076dccce",
   "metadata": {},
   "outputs": [
    {
     "name": "stdout",
     "output_type": "stream",
     "text": [
      "(0.07061916602127745-0.040455712713487954j)\n"
     ]
    }
   ],
   "source": [
    "# division\n",
    "a=2+3j\n",
    "b=3+44.2j\n",
    "c=a/b\n",
    "print(c)"
   ]
  },
  {
   "cell_type": "code",
   "execution_count": 26,
   "id": "d225f178",
   "metadata": {},
   "outputs": [
    {
     "ename": "TypeError",
     "evalue": "can't mod complex numbers.",
     "output_type": "error",
     "traceback": [
      "\u001b[1;31m---------------------------------------------------------\u001b[0m",
      "\u001b[1;31mTypeError\u001b[0m               Traceback (most recent call last)",
      "Input \u001b[1;32mIn [26]\u001b[0m, in \u001b[0;36m<cell line: 4>\u001b[1;34m()\u001b[0m\n\u001b[0;32m      2\u001b[0m a\u001b[38;5;241m=\u001b[39m\u001b[38;5;241m2\u001b[39m\u001b[38;5;241m+\u001b[39m\u001b[38;5;241m3\u001b[39mj\n\u001b[0;32m      3\u001b[0m b\u001b[38;5;241m=\u001b[39m\u001b[38;5;241m3\u001b[39m\u001b[38;5;241m+\u001b[39m\u001b[38;5;241m44.2\u001b[39mj\n\u001b[1;32m----> 4\u001b[0m c\u001b[38;5;241m=\u001b[39m\u001b[43ma\u001b[49m\u001b[38;5;241;43m%\u001b[39;49m\u001b[43mb\u001b[49m\n\u001b[0;32m      5\u001b[0m \u001b[38;5;28mprint\u001b[39m(c)\n",
      "\u001b[1;31mTypeError\u001b[0m: can't mod complex numbers."
     ]
    }
   ],
   "source": [
    "# modulo (It is not supported by complex number)\n",
    "a=2+3j\n",
    "b=3+44.2j\n",
    "c=a%b\n",
    "print(c)"
   ]
  },
  {
   "cell_type": "code",
   "execution_count": 27,
   "id": "f0c211bb",
   "metadata": {},
   "outputs": [
    {
     "name": "stdout",
     "output_type": "stream",
     "text": [
      "2.0\n"
     ]
    }
   ],
   "source": [
    "# print data only in real part(it will print float format)\n",
    "x=2+3j\n",
    "print(x.real)"
   ]
  },
  {
   "cell_type": "code",
   "execution_count": 28,
   "id": "f5a7655b",
   "metadata": {},
   "outputs": [
    {
     "name": "stdout",
     "output_type": "stream",
     "text": [
      "3.0\n"
     ]
    }
   ],
   "source": [
    "# print data only in imaginary part(it will print in float format)\n",
    "x=2+3j\n",
    "print(x.imag)"
   ]
  },
  {
   "cell_type": "code",
   "execution_count": 29,
   "id": "59f34af8",
   "metadata": {},
   "outputs": [
    {
     "name": "stdout",
     "output_type": "stream",
     "text": [
      "<class 'bool'>\n"
     ]
    }
   ],
   "source": [
    "# boolean\n",
    "# True=1 , False=0\n",
    "a=True\n",
    "print(type(a))\n"
   ]
  },
  {
   "cell_type": "code",
   "execution_count": 30,
   "id": "a3bfd548",
   "metadata": {},
   "outputs": [
    {
     "name": "stdout",
     "output_type": "stream",
     "text": [
      "True\n"
     ]
    }
   ],
   "source": [
    "x=7\n",
    "b=3\n",
    "c=b<x\n",
    "print(c)"
   ]
  },
  {
   "cell_type": "code",
   "execution_count": 31,
   "id": "01c876e6",
   "metadata": {},
   "outputs": [
    {
     "name": "stdout",
     "output_type": "stream",
     "text": [
      "2\n"
     ]
    }
   ],
   "source": [
    "print(True+True+False)"
   ]
  },
  {
   "cell_type": "code",
   "execution_count": 32,
   "id": "68d1be34",
   "metadata": {},
   "outputs": [
    {
     "name": "stdout",
     "output_type": "stream",
     "text": [
      "<class 'str'>\n"
     ]
    }
   ],
   "source": [
    "# string(collection of character)\n",
    "# str data type is used to represent string\n",
    "name='priti'\n",
    "print(type(name))"
   ]
  },
  {
   "cell_type": "markdown",
   "id": "a7cda298",
   "metadata": {},
   "source": [
    "NOTE:\n",
    " We can create a string by using  '',\"\",or \"\"\" \"\"\"\n",
    " \n",
    " If you want to represent multi line string then we have to use \"\"\" \"\"\""
   ]
  },
  {
   "cell_type": "code",
   "execution_count": 33,
   "id": "15baaeb5",
   "metadata": {},
   "outputs": [
    {
     "name": "stdout",
     "output_type": "stream",
     "text": [
      "This will represent\n",
      "    multi line string\n",
      "    in python\n"
     ]
    }
   ],
   "source": [
    "s=\"\"\"This will represent\n",
    "    multi line string\n",
    "    in python\"\"\"\n",
    "print(s)"
   ]
  },
  {
   "cell_type": "code",
   "execution_count": 35,
   "id": "2ac962aa",
   "metadata": {},
   "outputs": [
    {
     "name": "stdout",
     "output_type": "stream",
     "text": [
      "This will represent\n",
      "    'multi line' string\n",
      "    in python\n"
     ]
    }
   ],
   "source": [
    "# Displaying coatation inside string\n",
    "s=\"\"\"This will represent\n",
    "    'multi line' string\n",
    "    in python\"\"\"\n",
    "print(s)"
   ]
  },
  {
   "cell_type": "code",
   "execution_count": null,
   "id": "4353bc19",
   "metadata": {},
   "outputs": [],
   "source": []
  }
 ],
 "metadata": {
  "kernelspec": {
   "display_name": "Python 3 (ipykernel)",
   "language": "python",
   "name": "python3"
  },
  "language_info": {
   "codemirror_mode": {
    "name": "ipython",
    "version": 3
   },
   "file_extension": ".py",
   "mimetype": "text/x-python",
   "name": "python",
   "nbconvert_exporter": "python",
   "pygments_lexer": "ipython3",
   "version": "3.9.12"
  }
 },
 "nbformat": 4,
 "nbformat_minor": 5
}
