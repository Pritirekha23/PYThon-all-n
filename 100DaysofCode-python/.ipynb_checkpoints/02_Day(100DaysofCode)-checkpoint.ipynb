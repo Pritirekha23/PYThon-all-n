{
 "cells": [
  {
   "cell_type": "markdown",
   "id": "41c09ed5",
   "metadata": {},
   "source": [
    "## 02_Day of 100DaysofCode"
   ]
  },
  {
   "cell_type": "code",
   "execution_count": null,
   "id": "e77a4c4b",
   "metadata": {},
   "outputs": [],
   "source": [
    "# Datatypes"
   ]
  },
  {
   "cell_type": "code",
   "execution_count": 2,
   "id": "54379ed1",
   "metadata": {},
   "outputs": [
    {
     "name": "stdout",
     "output_type": "stream",
     "text": [
      "<class 'int'>\n"
     ]
    }
   ],
   "source": [
    "# Numeric\n",
    "\n",
    "# int\n",
    "a=10\n",
    "print(type(a))"
   ]
  },
  {
   "cell_type": "code",
   "execution_count": 3,
   "id": "cffeb020",
   "metadata": {},
   "outputs": [
    {
     "name": "stdout",
     "output_type": "stream",
     "text": [
      "0b1010\n"
     ]
    }
   ],
   "source": [
    "#convert decimal to binary\n",
    "# 0b represent it is binary \n",
    "print(bin(10))"
   ]
  },
  {
   "cell_type": "code",
   "execution_count": 4,
   "id": "f5c55fd2",
   "metadata": {},
   "outputs": [
    {
     "name": "stdout",
     "output_type": "stream",
     "text": [
      "0b1000\n"
     ]
    }
   ],
   "source": [
    "#convert octal to binary\n",
    "# 0o represnt octal\n",
    "print(bin(0o10))"
   ]
  },
  {
   "cell_type": "code",
   "execution_count": 6,
   "id": "dbf9cee2",
   "metadata": {},
   "outputs": [
    {
     "name": "stdout",
     "output_type": "stream",
     "text": [
      "0o12\n"
     ]
    }
   ],
   "source": [
    "#convert decimal to octal\n",
    "print(oct(10))"
   ]
  },
  {
   "cell_type": "code",
   "execution_count": 9,
   "id": "3bcfe472",
   "metadata": {},
   "outputs": [
    {
     "name": "stdout",
     "output_type": "stream",
     "text": [
      "0o2\n"
     ]
    }
   ],
   "source": [
    "#convert binary to octal\n",
    "print(oct(0b10))"
   ]
  },
  {
   "cell_type": "code",
   "execution_count": 12,
   "id": "4161eed8",
   "metadata": {},
   "outputs": [
    {
     "name": "stdout",
     "output_type": "stream",
     "text": [
      "0x3e8\n"
     ]
    }
   ],
   "source": [
    "#convert decimal to hexadecimal\n",
    "print(hex(1000))"
   ]
  },
  {
   "cell_type": "code",
   "execution_count": 14,
   "id": "d90d0b61",
   "metadata": {},
   "outputs": [
    {
     "name": "stdout",
     "output_type": "stream",
     "text": [
      "0x40\n"
     ]
    }
   ],
   "source": [
    "#convert octal to hexadecimal\n",
    "print(hex(0o100))"
   ]
  },
  {
   "cell_type": "code",
   "execution_count": null,
   "id": "821959a6",
   "metadata": {},
   "outputs": [],
   "source": [
    "# float"
   ]
  },
  {
   "cell_type": "code",
   "execution_count": 15,
   "id": "aa80f299",
   "metadata": {},
   "outputs": [
    {
     "name": "stdout",
     "output_type": "stream",
     "text": [
      "<class 'float'>\n"
     ]
    }
   ],
   "source": [
    "sgpa=7.83\n",
    "print(type(sgpa))"
   ]
  },
  {
   "cell_type": "code",
   "execution_count": null,
   "id": "343e6f98",
   "metadata": {},
   "outputs": [],
   "source": [
    "#complex\n",
    "\n",
    "# It has two parts real part and imaginary part.\n",
    "# represented as a+bj"
   ]
  },
  {
   "cell_type": "code",
   "execution_count": 16,
   "id": "3dd17e11",
   "metadata": {},
   "outputs": [
    {
     "name": "stdout",
     "output_type": "stream",
     "text": [
      "<class 'complex'>\n"
     ]
    }
   ],
   "source": [
    "x=2+3.2j\n",
    "print(type(x))"
   ]
  },
  {
   "cell_type": "markdown",
   "id": "7675d91e",
   "metadata": {},
   "source": [
    "NOTE:\n",
    "In real partwe can set all type(binary,octal,decimal,hexadecimal)but in imaginary part except decimal number nothing is accepted."
   ]
  },
  {
   "cell_type": "code",
   "execution_count": 17,
   "id": "f675731a",
   "metadata": {},
   "outputs": [
    {
     "name": "stdout",
     "output_type": "stream",
     "text": [
      "(5+47.2j)\n"
     ]
    }
   ],
   "source": [
    "# Operations on complex number:\n",
    "\n",
    "# addition\n",
    "a=2+3j\n",
    "b=3+44.2j\n",
    "c=a+b\n",
    "print(c)"
   ]
  },
  {
   "cell_type": "code",
   "execution_count": 18,
   "id": "6b6d6bc9",
   "metadata": {},
   "outputs": [
    {
     "name": "stdout",
     "output_type": "stream",
     "text": [
      "(-1-41.2j)\n"
     ]
    }
   ],
   "source": [
    "# substarction\n",
    "a=2+3j\n",
    "b=3+44.2j\n",
    "c=a-b\n",
    "print(c)"
   ]
  },
  {
   "cell_type": "code",
   "execution_count": 23,
   "id": "05b9e5bc",
   "metadata": {},
   "outputs": [
    {
     "name": "stdout",
     "output_type": "stream",
     "text": [
      "(-126.60000000000002+97.4j)\n"
     ]
    }
   ],
   "source": [
    "# multiplication\n",
    "a=2+3j\n",
    "b=3+44.2j\n",
    "c=a*b\n",
    "print(c)"
   ]
  },
  {
   "cell_type": "code",
   "execution_count": 24,
   "id": "461a6e2a",
   "metadata": {},
   "outputs": [
    {
     "name": "stdout",
     "output_type": "stream",
     "text": [
      "(0.07061916602127745-0.040455712713487954j)\n"
     ]
    }
   ],
   "source": [
    "# division\n",
    "a=2+3j\n",
    "b=3+44.2j\n",
    "c=a/b\n",
    "print(c)"
   ]
  },
  {
   "cell_type": "code",
   "execution_count": 26,
   "id": "ee739d3e",
   "metadata": {},
   "outputs": [
    {
     "ename": "TypeError",
     "evalue": "can't mod complex numbers.",
     "output_type": "error",
     "traceback": [
      "\u001b[1;31m---------------------------------------------------------\u001b[0m",
      "\u001b[1;31mTypeError\u001b[0m               Traceback (most recent call last)",
      "Input \u001b[1;32mIn [26]\u001b[0m, in \u001b[0;36m<cell line: 4>\u001b[1;34m()\u001b[0m\n\u001b[0;32m      2\u001b[0m a\u001b[38;5;241m=\u001b[39m\u001b[38;5;241m2\u001b[39m\u001b[38;5;241m+\u001b[39m\u001b[38;5;241m3\u001b[39mj\n\u001b[0;32m      3\u001b[0m b\u001b[38;5;241m=\u001b[39m\u001b[38;5;241m3\u001b[39m\u001b[38;5;241m+\u001b[39m\u001b[38;5;241m44.2\u001b[39mj\n\u001b[1;32m----> 4\u001b[0m c\u001b[38;5;241m=\u001b[39m\u001b[43ma\u001b[49m\u001b[38;5;241;43m%\u001b[39;49m\u001b[43mb\u001b[49m\n\u001b[0;32m      5\u001b[0m \u001b[38;5;28mprint\u001b[39m(c)\n",
      "\u001b[1;31mTypeError\u001b[0m: can't mod complex numbers."
     ]
    }
   ],
   "source": [
    "# modulo (It is not supported by complex number)\n",
    "a=2+3j\n",
    "b=3+44.2j\n",
    "c=a%b\n",
    "print(c)"
   ]
  },
  {
   "cell_type": "code",
   "execution_count": 27,
   "id": "1fe710fa",
   "metadata": {},
   "outputs": [
    {
     "name": "stdout",
     "output_type": "stream",
     "text": [
      "2.0\n"
     ]
    }
   ],
   "source": [
    "# print data only in real part(it will print float format)\n",
    "x=2+3j\n",
    "print(x.real)"
   ]
  },
  {
   "cell_type": "code",
   "execution_count": 28,
   "id": "6cb1cd35",
   "metadata": {},
   "outputs": [
    {
     "name": "stdout",
     "output_type": "stream",
     "text": [
      "3.0\n"
     ]
    }
   ],
   "source": [
    "# print data only in imaginary part(it will print in float format)\n",
    "x=2+3j\n",
    "print(x.imag)"
   ]
  },
  {
   "cell_type": "code",
   "execution_count": 29,
   "id": "c9c1245a",
   "metadata": {},
   "outputs": [
    {
     "name": "stdout",
     "output_type": "stream",
     "text": [
      "<class 'bool'>\n"
     ]
    }
   ],
   "source": [
    "# boolean\n",
    "# True=1 , False=0\n",
    "a=True\n",
    "print(type(a))\n"
   ]
  },
  {
   "cell_type": "code",
   "execution_count": 30,
   "id": "0573911b",
   "metadata": {},
   "outputs": [
    {
     "name": "stdout",
     "output_type": "stream",
     "text": [
      "True\n"
     ]
    }
   ],
   "source": [
    "x=7\n",
    "b=3\n",
    "c=b<x\n",
    "print(c)"
   ]
  },
  {
   "cell_type": "code",
   "execution_count": 31,
   "id": "f7264513",
   "metadata": {},
   "outputs": [
    {
     "name": "stdout",
     "output_type": "stream",
     "text": [
      "2\n"
     ]
    }
   ],
   "source": [
    "print(True+True+False)"
   ]
  },
  {
   "cell_type": "code",
   "execution_count": null,
   "id": "f77a325f",
   "metadata": {},
   "outputs": [],
   "source": [
    "# string(collection of character)"
   ]
  },
  {
   "cell_type": "code",
   "execution_count": null,
   "id": "d49f1eb8",
   "metadata": {},
   "outputs": [],
   "source": []
  },
  {
   "cell_type": "code",
   "execution_count": null,
   "id": "50908748",
   "metadata": {},
   "outputs": [],
   "source": []
  },
  {
   "cell_type": "code",
   "execution_count": null,
   "id": "122e8456",
   "metadata": {},
   "outputs": [],
   "source": []
  },
  {
   "cell_type": "code",
   "execution_count": null,
   "id": "c3719933",
   "metadata": {},
   "outputs": [],
   "source": []
  }
 ],
 "metadata": {
  "kernelspec": {
   "display_name": "Python 3 (ipykernel)",
   "language": "python",
   "name": "python3"
  },
  "language_info": {
   "codemirror_mode": {
    "name": "ipython",
    "version": 3
   },
   "file_extension": ".py",
   "mimetype": "text/x-python",
   "name": "python",
   "nbconvert_exporter": "python",
   "pygments_lexer": "ipython3",
   "version": "3.9.12"
  }
 },
 "nbformat": 4,
 "nbformat_minor": 5
}
