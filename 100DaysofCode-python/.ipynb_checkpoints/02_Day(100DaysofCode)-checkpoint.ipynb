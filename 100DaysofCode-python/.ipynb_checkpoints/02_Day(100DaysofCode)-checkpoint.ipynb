{
 "cells": [
  {
   "cell_type": "markdown",
   "id": "f22cacab",
   "metadata": {},
   "source": [
    "## 02_Day of 100DaysofCode"
   ]
  },
  {
   "cell_type": "code",
   "execution_count": null,
   "id": "0b567568",
   "metadata": {},
   "outputs": [],
   "source": [
    "# Datatypes"
   ]
  },
  {
   "cell_type": "code",
   "execution_count": 2,
   "id": "960ab809",
   "metadata": {},
   "outputs": [
    {
     "name": "stdout",
     "output_type": "stream",
     "text": [
      "<class 'int'>\n"
     ]
    }
   ],
   "source": [
    "# Numeric\n",
    "\n",
    "# int\n",
    "a=10\n",
    "print(type(a))"
   ]
  },
  {
   "cell_type": "code",
   "execution_count": 3,
   "id": "11722938",
   "metadata": {},
   "outputs": [
    {
     "name": "stdout",
     "output_type": "stream",
     "text": [
      "0b1010\n"
     ]
    }
   ],
   "source": [
    "#convert decimal to binary\n",
    "# 0b represent it is binary \n",
    "print(bin(10))"
   ]
  },
  {
   "cell_type": "code",
   "execution_count": 4,
   "id": "3607437d",
   "metadata": {},
   "outputs": [
    {
     "name": "stdout",
     "output_type": "stream",
     "text": [
      "0b1000\n"
     ]
    }
   ],
   "source": [
    "#convert octal to binary\n",
    "# 0o represnt octal\n",
    "print(bin(0o10))"
   ]
  },
  {
   "cell_type": "code",
   "execution_count": 6,
   "id": "85e69b70",
   "metadata": {},
   "outputs": [
    {
     "name": "stdout",
     "output_type": "stream",
     "text": [
      "0o12\n"
     ]
    }
   ],
   "source": [
    "#convert decimal to octal\n",
    "print(oct(10))"
   ]
  },
  {
   "cell_type": "code",
   "execution_count": 9,
   "id": "fce5b3b3",
   "metadata": {},
   "outputs": [
    {
     "name": "stdout",
     "output_type": "stream",
     "text": [
      "0o2\n"
     ]
    }
   ],
   "source": [
    "#convert binary to octal\n",
    "print(oct(0b10))"
   ]
  },
  {
   "cell_type": "code",
   "execution_count": 12,
   "id": "c8b6d6ad",
   "metadata": {},
   "outputs": [
    {
     "name": "stdout",
     "output_type": "stream",
     "text": [
      "0x3e8\n"
     ]
    }
   ],
   "source": [
    "#convert decimal to hexadecimal\n",
    "print(hex(1000))"
   ]
  },
  {
   "cell_type": "code",
   "execution_count": 14,
   "id": "cd36c086",
   "metadata": {},
   "outputs": [
    {
     "name": "stdout",
     "output_type": "stream",
     "text": [
      "0x40\n"
     ]
    }
   ],
   "source": [
    "#convert octal to hexadecimal\n",
    "print(hex(0o100))"
   ]
  },
  {
   "cell_type": "code",
   "execution_count": null,
   "id": "f9b2f437",
   "metadata": {},
   "outputs": [],
   "source": [
    "# float"
   ]
  },
  {
   "cell_type": "code",
   "execution_count": 15,
   "id": "5439ffb1",
   "metadata": {},
   "outputs": [
    {
     "name": "stdout",
     "output_type": "stream",
     "text": [
      "<class 'float'>\n"
     ]
    }
   ],
   "source": [
    "sgpa=7.83\n",
    "print(type(sgpa))"
   ]
  },
  {
   "cell_type": "code",
   "execution_count": null,
   "id": "5383c970",
   "metadata": {},
   "outputs": [],
   "source": [
    "#complex\n",
    "\n",
    "# It has two parts real part and imaginary part.\n",
    "# represented as a+bj"
   ]
  },
  {
   "cell_type": "code",
   "execution_count": 16,
   "id": "175d7618",
   "metadata": {},
   "outputs": [
    {
     "name": "stdout",
     "output_type": "stream",
     "text": [
      "<class 'complex'>\n"
     ]
    }
   ],
   "source": [
    "x=2+3.2j\n",
    "print(type(x))"
   ]
  },
  {
   "cell_type": "code",
   "execution_count": null,
   "id": "31322b96",
   "metadata": {},
   "outputs": [],
   "source": []
  },
  {
   "cell_type": "code",
   "execution_count": null,
   "id": "7ce88359",
   "metadata": {},
   "outputs": [],
   "source": []
  },
  {
   "cell_type": "code",
   "execution_count": null,
   "id": "c32932ba",
   "metadata": {},
   "outputs": [],
   "source": []
  },
  {
   "cell_type": "code",
   "execution_count": null,
   "id": "e14e8735",
   "metadata": {},
   "outputs": [],
   "source": []
  },
  {
   "cell_type": "code",
   "execution_count": null,
   "id": "25cd9edd",
   "metadata": {},
   "outputs": [],
   "source": []
  }
 ],
 "metadata": {
  "kernelspec": {
   "display_name": "Python 3 (ipykernel)",
   "language": "python",
   "name": "python3"
  },
  "language_info": {
   "codemirror_mode": {
    "name": "ipython",
    "version": 3
   },
   "file_extension": ".py",
   "mimetype": "text/x-python",
   "name": "python",
   "nbconvert_exporter": "python",
   "pygments_lexer": "ipython3",
   "version": "3.9.12"
  }
 },
 "nbformat": 4,
 "nbformat_minor": 5
}
