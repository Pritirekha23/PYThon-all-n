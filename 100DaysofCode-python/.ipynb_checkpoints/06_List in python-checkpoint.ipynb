{
 "cells": [
  {
   "cell_type": "markdown",
   "id": "71377806",
   "metadata": {},
   "source": [
    "06_list in python"
   ]
  },
  {
   "cell_type": "markdown",
   "id": "ad1b7f79",
   "metadata": {},
   "source": [
    "## LIST"
   ]
  },
  {
   "cell_type": "markdown",
   "id": "a62abe30",
   "metadata": {},
   "source": [
    "List is an inbuild data structure in python,which is used to store heterogeneous data items."
   ]
  },
  {
   "cell_type": "code",
   "execution_count": null,
   "id": "4457ea93",
   "metadata": {},
   "outputs": [],
   "source": []
  },
  {
   "cell_type": "code",
   "execution_count": null,
   "id": "e63c7ea1",
   "metadata": {},
   "outputs": [],
   "source": []
  }
 ],
 "metadata": {
  "kernelspec": {
   "display_name": "Python 3 (ipykernel)",
   "language": "python",
   "name": "python3"
  },
  "language_info": {
   "codemirror_mode": {
    "name": "ipython",
    "version": 3
   },
   "file_extension": ".py",
   "mimetype": "text/x-python",
   "name": "python",
   "nbconvert_exporter": "python",
   "pygments_lexer": "ipython3",
   "version": "3.9.12"
  }
 },
 "nbformat": 4,
 "nbformat_minor": 5
}
