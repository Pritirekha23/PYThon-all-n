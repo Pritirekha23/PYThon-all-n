{
 "cells": [
  {
   "cell_type": "markdown",
   "id": "56c3f4a4",
   "metadata": {},
   "source": [
    "09_Tuple\n",
    "Dt-30/01/23"
   ]
  },
  {
   "cell_type": "markdown",
   "id": "d542e8f7",
   "metadata": {},
   "source": [
    "# TUPLE"
   ]
  },
  {
   "cell_type": "markdown",
   "id": "248608ee",
   "metadata": {},
   "source": [
    "It is immutable(unchangable)\n",
    "Tuple maintaining order .\n",
    "Duplicate elements are allowed .\n",
    "() paranthesis is optional but it is recomanded .\n",
    "tuple support both positive and negative index ."
   ]
  },
  {
   "cell_type": "code",
   "execution_count": null,
   "id": "d0005147",
   "metadata": {},
   "outputs": [],
   "source": []
  },
  {
   "cell_type": "code",
   "execution_count": null,
   "id": "dd76910f",
   "metadata": {},
   "outputs": [],
   "source": []
  },
  {
   "cell_type": "code",
   "execution_count": null,
   "id": "ec2fe05d",
   "metadata": {},
   "outputs": [],
   "source": []
  },
  {
   "cell_type": "code",
   "execution_count": null,
   "id": "30c5af7b",
   "metadata": {},
   "outputs": [],
   "source": []
  }
 ],
 "metadata": {
  "kernelspec": {
   "display_name": "Python 3 (ipykernel)",
   "language": "python",
   "name": "python3"
  },
  "language_info": {
   "codemirror_mode": {
    "name": "ipython",
    "version": 3
   },
   "file_extension": ".py",
   "mimetype": "text/x-python",
   "name": "python",
   "nbconvert_exporter": "python",
   "pygments_lexer": "ipython3",
   "version": "3.9.12"
  }
 },
 "nbformat": 4,
 "nbformat_minor": 5
}
