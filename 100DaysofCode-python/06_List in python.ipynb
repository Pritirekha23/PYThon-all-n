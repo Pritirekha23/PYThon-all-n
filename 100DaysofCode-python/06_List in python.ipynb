{
 "cells": [
  {
   "cell_type": "markdown",
   "id": "a2ecb7a3",
   "metadata": {},
   "source": [
    "06_list in python"
   ]
  },
  {
   "cell_type": "markdown",
   "id": "063ff77c",
   "metadata": {},
   "source": [
    "## LIST"
   ]
  },
  {
   "cell_type": "markdown",
   "id": "bd96e968",
   "metadata": {},
   "source": [
    "List is an inbuild data structure in python,which is used to store heterogeneous data items,also we xan store homogeneous data items."
   ]
  },
  {
   "cell_type": "code",
   "execution_count": 1,
   "id": "91c8da61",
   "metadata": {},
   "outputs": [
    {
     "name": "stdout",
     "output_type": "stream",
     "text": [
      "Enter a list2,3,4,5\n",
      "(2, 3, 4, 5)\n"
     ]
    }
   ],
   "source": [
    "# Creation of list using eval\n",
    "l=eval((input('Enter a list')))\n",
    "print(l)"
   ]
  },
  {
   "cell_type": "code",
   "execution_count": 2,
   "id": "7517f5de",
   "metadata": {},
   "outputs": [
    {
     "name": "stdout",
     "output_type": "stream",
     "text": [
      "[]\n"
     ]
    }
   ],
   "source": [
    "# Creation of empty list\n",
    "l=[]\n",
    "print(l)"
   ]
  },
  {
   "cell_type": "code",
   "execution_count": 3,
   "id": "e7bcebbe",
   "metadata": {},
   "outputs": [
    {
     "name": "stdout",
     "output_type": "stream",
     "text": [
      "[5, 3, 4]\n"
     ]
    }
   ],
   "source": [
    "#Creation of list using list function\n",
    "l=list((5,3,4))\n",
    "print(l)"
   ]
  },
  {
   "cell_type": "code",
   "execution_count": null,
   "id": "2c868729",
   "metadata": {},
   "outputs": [],
   "source": [
    "# Creation of list using range function\n",
    "l=list(range(5)"
   ]
  },
  {
   "cell_type": "code",
   "execution_count": null,
   "id": "79958755",
   "metadata": {},
   "outputs": [],
   "source": []
  },
  {
   "cell_type": "code",
   "execution_count": null,
   "id": "22eaf3f1",
   "metadata": {},
   "outputs": [],
   "source": []
  }
 ],
 "metadata": {
  "kernelspec": {
   "display_name": "Python 3 (ipykernel)",
   "language": "python",
   "name": "python3"
  },
  "language_info": {
   "codemirror_mode": {
    "name": "ipython",
    "version": 3
   },
   "file_extension": ".py",
   "mimetype": "text/x-python",
   "name": "python",
   "nbconvert_exporter": "python",
   "pygments_lexer": "ipython3",
   "version": "3.9.12"
  }
 },
 "nbformat": 4,
 "nbformat_minor": 5
}
