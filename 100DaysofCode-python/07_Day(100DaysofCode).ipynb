{
 "cells": [
  {
   "cell_type": "markdown",
   "id": "c6fdc8db",
   "metadata": {},
   "source": [
    "07_list continue"
   ]
  },
  {
   "cell_type": "code",
   "execution_count": null,
   "id": "ab0df126",
   "metadata": {},
   "outputs": [],
   "source": [
    "# Accessing of list element\n",
    "  # Index \n",
    "  # Slice operator"
   ]
  },
  {
   "cell_type": "code",
   "execution_count": 2,
   "id": "7e71b569",
   "metadata": {},
   "outputs": [
    {
     "name": "stdout",
     "output_type": "stream",
     "text": [
      "priti\n",
      "2.3\n"
     ]
    }
   ],
   "source": [
    "# Accessing element by using index.\n",
    "l=[4,2.3,'priti','rutu']\n",
    "print(l[2])\n",
    "print(l[-3])"
   ]
  },
  {
   "cell_type": "code",
   "execution_count": 8,
   "id": "e2ceb9d5",
   "metadata": {},
   "outputs": [
    {
     "name": "stdout",
     "output_type": "stream",
     "text": [
      "[4, 2.3, 'priti', 'rutu', 55]\n",
      "[2.3]\n"
     ]
    }
   ],
   "source": [
    "# Accessing element by using slice operator\n",
    "l=[4,2.3,'priti','rutu',55]\n",
    "print(l[::])\n",
    "print(l[1:2])\n"
   ]
  },
  {
   "cell_type": "markdown",
   "id": "a6ff07b7",
   "metadata": {},
   "source": [
    "## List methods"
   ]
  },
  {
   "cell_type": "markdown",
   "id": "f2b04f14",
   "metadata": {},
   "source": [
    "Method        Description\n",
    "append()--->Adds an element at the end of the list(It will work like push() operation of stack data structure)\n",
    "insert()-->Adds an element at the specified position here position is required.\n",
    "clear()--->Removes all the elements from the list\n",
    "copy()--->It is used for shallow copy.\n",
    "count()--->Used to count the number of times an element appear in the list.\n",
    "extend()-->Add the elements of a list (or any iterable), to the end of the current list\n",
    "index()-->Returns the index of the first element with the specified value\n",
    "pop()-->By default it will remove and return the last element of the list.\n",
    "remove()-->Removes the specified element from the list.If the specified element present multiple times then it will remove the first occurance from the list.\n",
    "reverse()-->Reverses the order of the list\n",
    "sort()-->Sorts the list"
   ]
  },
  {
   "cell_type": "code",
   "execution_count": null,
   "id": "f2e2a43e",
   "metadata": {},
   "outputs": [],
   "source": []
  }
 ],
 "metadata": {
  "kernelspec": {
   "display_name": "Python 3 (ipykernel)",
   "language": "python",
   "name": "python3"
  },
  "language_info": {
   "codemirror_mode": {
    "name": "ipython",
    "version": 3
   },
   "file_extension": ".py",
   "mimetype": "text/x-python",
   "name": "python",
   "nbconvert_exporter": "python",
   "pygments_lexer": "ipython3",
   "version": "3.9.12"
  }
 },
 "nbformat": 4,
 "nbformat_minor": 5
}
