{
 "cells": [
  {
   "cell_type": "markdown",
   "id": "c3657c53",
   "metadata": {},
   "source": [
    "11_Day(100DAysofCode)"
   ]
  },
  {
   "cell_type": "markdown",
   "id": "e59d13e3",
   "metadata": {},
   "source": [
    "# Set"
   ]
  },
  {
   "cell_type": "markdown",
   "id": "268028fa",
   "metadata": {},
   "source": [
    "Set is mutable but set elements are unmutable.\n",
    "It does not maintain any order.\n",
    "It doest not support indexing and slicing concept."
   ]
  },
  {
   "cell_type": "code",
   "execution_count": 2,
   "id": "ed1562e1",
   "metadata": {},
   "outputs": [
    {
     "name": "stdout",
     "output_type": "stream",
     "text": [
      "set()\n",
      "<class 'set'>\n"
     ]
    }
   ],
   "source": [
    "# Creation of empty set by using set()\n",
    "s=set()\n",
    "print(s)\n",
    "print(type(s))"
   ]
  },
  {
   "cell_type": "code",
   "execution_count": 3,
   "id": "319fa8c1",
   "metadata": {},
   "outputs": [
    {
     "name": "stdout",
     "output_type": "stream",
     "text": [
      "{2, 3, 4, 5}\n",
      "<class 'set'>\n"
     ]
    }
   ],
   "source": [
    "# Creation of empty set with multiple values\n",
    "s={2,3,4,5}\n",
    "print(s)\n",
    "print(type(s))"
   ]
  },
  {
   "cell_type": "code",
   "execution_count": 4,
   "id": "a25f373d",
   "metadata": {},
   "outputs": [
    {
     "name": "stdout",
     "output_type": "stream",
     "text": [
      "{'priti', 2, 7.4}\n"
     ]
    }
   ],
   "source": [
    "# Creation of empty set with heterogeneous elements\n",
    "s={2,'priti',7.4}\n",
    "print(s)"
   ]
  },
  {
   "cell_type": "code",
   "execution_count": 5,
   "id": "dc14e8d5",
   "metadata": {},
   "outputs": [
    {
     "name": "stdout",
     "output_type": "stream",
     "text": [
      "{8.2, 'python', 2}\n",
      "<class 'set'>\n"
     ]
    }
   ],
   "source": [
    "# Creation of empty set from tuple\n",
    "t=(2,'python',8.2)\n",
    "s=set(t)\n",
    "print(s)\n",
    "print(type(s))"
   ]
  },
  {
   "cell_type": "code",
   "execution_count": 7,
   "id": "08c434da",
   "metadata": {},
   "outputs": [
    {
     "name": "stdout",
     "output_type": "stream",
     "text": [
      "{0, 1, 2, 3, 4, 5, 6, 7, 8, 9, 10, 11, 12, 13, 14, 15, 16, 17, 18, 19}\n",
      "<class 'set'>\n"
     ]
    }
   ],
   "source": [
    "# Creation of tuple from range()\n",
    "s=set(range(20))\n",
    "print(s)\n",
    "print(type(s))\n"
   ]
  },
  {
   "cell_type": "code",
   "execution_count": 8,
   "id": "83797850",
   "metadata": {},
   "outputs": [
    {
     "name": "stdout",
     "output_type": "stream",
     "text": [
      "{'h', 'u', 'a', 'k', 'o', 'l', 'v', 'I', 'r', ' ', 's', 't', 'd', 'y', 'n', 'i', 'f', 'c', 'e'}\n"
     ]
    }
   ],
   "source": [
    "# creation of set from string\n",
    "msg='I think life is very difficult to understand'\n",
    "s=set(msg)\n",
    "print(s)"
   ]
  },
  {
   "cell_type": "code",
   "execution_count": null,
   "id": "4d40fcc6",
   "metadata": {},
   "outputs": [],
   "source": [
    "in and not in\n"
   ]
  },
  {
   "cell_type": "code",
   "execution_count": null,
   "id": "e1c0bbb0",
   "metadata": {},
   "outputs": [],
   "source": []
  }
 ],
 "metadata": {
  "kernelspec": {
   "display_name": "Python 3 (ipykernel)",
   "language": "python",
   "name": "python3"
  },
  "language_info": {
   "codemirror_mode": {
    "name": "ipython",
    "version": 3
   },
   "file_extension": ".py",
   "mimetype": "text/x-python",
   "name": "python",
   "nbconvert_exporter": "python",
   "pygments_lexer": "ipython3",
   "version": "3.9.12"
  }
 },
 "nbformat": 4,
 "nbformat_minor": 5
}
