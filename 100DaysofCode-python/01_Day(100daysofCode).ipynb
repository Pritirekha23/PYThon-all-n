{
 "cells": [
  {
   "cell_type": "markdown",
   "id": "e483e016",
   "metadata": {},
   "source": [
    "01Day of 100DaysofCode"
   ]
  },
  {
   "cell_type": "markdown",
   "id": "70d927d8",
   "metadata": {},
   "source": [
    "# PYTHON"
   ]
  },
  {
   "cell_type": "markdown",
   "id": "e40d9a3d",
   "metadata": {},
   "source": [
    "HISTORY::--\n",
    "Guido van Rossum is the father of Python.\n",
    "In 1980's He was started working on python and in 20th feb 1991 at CWI in Netherland he released python 0.9.0.\n",
    "The fact behind choosing the name Python is In 1970's there was a popular BBC comedy show named as \"MONTY PYTHON's FLYING CIRCUS\" .\n",
    "Guido van Rossum was a fan of this comdey show , so he decided to pick the name \"PYTHON\" for his programming language.\n",
    "The idea of Python programming language has taken from ABC programming language."
   ]
  },
  {
   "cell_type": "markdown",
   "id": "329317fa",
   "metadata": {},
   "source": [
    "PYTHON:-\n",
    "Python is a simple, general purpose(by using python we can develop different types of applications)  high-level,robust,object-oriented programming language.\n",
    "it is multipurpose programming language ,because it can be used with web,3D CAD, enterprise etc.\n",
    "In python every new line indicates end of the statement.\n",
    "It is dynamically typed so no need to use data types to declare variable."
   ]
  },
  {
   "cell_type": "code",
   "execution_count": 1,
   "id": "94654dea",
   "metadata": {},
   "outputs": [
    {
     "name": "stdout",
     "output_type": "stream",
     "text": [
      "Hello world\n"
     ]
    }
   ],
   "source": [
    "print(\"Hello world\")"
   ]
  },
  {
   "cell_type": "markdown",
   "id": "30c467b7",
   "metadata": {},
   "source": [
    "By taking different features from languages Guido van Rossum  developed python.\n",
    "Funtional programming from C\n",
    "Object oriented programming from C++\n",
    "Scripting from perl and shell scripting \n",
    "modular programming language from modularity\n"
   ]
  },
  {
   "cell_type": "markdown",
   "id": "36d8475b",
   "metadata": {},
   "source": [
    "## Python indentation"
   ]
  },
  {
   "cell_type": "markdown",
   "id": "d56c50bf",
   "metadata": {},
   "source": [
    "Indentation refers to the spaces at the beginning of a code line.\n",
    "In python Indentation is very important to indicate a block of code.\n",
    "python will give error if we skip indentaation."
   ]
  },
  {
   "cell_type": "code",
   "execution_count": 3,
   "id": "dd620e33",
   "metadata": {},
   "outputs": [
    {
     "name": "stdout",
     "output_type": "stream",
     "text": [
      "Red\n",
      "Red\n",
      "Red\n"
     ]
    }
   ],
   "source": [
    "#VARIABLE\n",
    "# one value multiple variable\n",
    "x=y=z=\"Red\"\n",
    "print(x)\n",
    "print(y)\n",
    "print(z)"
   ]
  },
  {
   "cell_type": "code",
   "execution_count": 6,
   "id": "f498f1f1",
   "metadata": {},
   "outputs": [
    {
     "name": "stdout",
     "output_type": "stream",
     "text": [
      "red\n",
      "green\n",
      "blue\n"
     ]
    }
   ],
   "source": [
    "# many values to multiple variables\n",
    "# number of values=number of variables\n",
    "a,b,c=\"red\",\"green\",\"blue\"\n",
    "print(a)\n",
    "print(b)\n",
    "print(c)"
   ]
  },
  {
   "cell_type": "markdown",
   "id": "0960d003",
   "metadata": {},
   "source": [
    "Unpack a collection ::--\n",
    " Here we can assign elements of list or tuples to multiple     variables.\n",
    " \n",
    " "
   ]
  },
  {
   "cell_type": "code",
   "execution_count": 1,
   "id": "40eaefe6",
   "metadata": {},
   "outputs": [
    {
     "name": "stdout",
     "output_type": "stream",
     "text": [
      "Red\n",
      "green\n",
      "blue\n"
     ]
    }
   ],
   "source": [
    "# unpack a list\n",
    "color=['Red','green','blue']\n",
    "a,b,c=color\n",
    "print(a)\n",
    "print(b)\n",
    "print(c)"
   ]
  },
  {
   "cell_type": "code",
   "execution_count": 6,
   "id": "aed7badc",
   "metadata": {},
   "outputs": [
    {
     "name": "stdout",
     "output_type": "stream",
     "text": [
      "Python isawesome\n"
     ]
    }
   ],
   "source": [
    "#using + operator to output multiple variables.(for number + operator is mathematical operator)\n",
    "x = \"Python \"\n",
    "y = \"is\"\n",
    "z = \"awesome\"\n",
    "print(x + y + z)\n",
    "\n",
    "#after python a space is there if the space is not present there then the output is like Pythonisawesome"
   ]
  },
  {
   "cell_type": "code",
   "execution_count": 3,
   "id": "0a2fd502",
   "metadata": {},
   "outputs": [
    {
     "name": "stdout",
     "output_type": "stream",
     "text": [
      "Python is awesome\n"
     ]
    }
   ],
   "source": [
    "# using comma output of multiple variables we can print\n",
    "x = \"Python\"\n",
    "y = \"is\"\n",
    "z = \"awesome\"\n",
    "print(x, y, z)"
   ]
  },
  {
   "cell_type": "code",
   "execution_count": 12,
   "id": "4040fc00",
   "metadata": {},
   "outputs": [
    {
     "name": "stdout",
     "output_type": "stream",
     "text": [
      "3 priti\n"
     ]
    },
    {
     "ename": "TypeError",
     "evalue": "unsupported operand type(s) for +: 'int' and 'str'",
     "output_type": "error",
     "traceback": [
      "\u001b[1;31m---------------------------------------------------------------------------\u001b[0m",
      "\u001b[1;31mTypeError\u001b[0m                                 Traceback (most recent call last)",
      "Input \u001b[1;32mIn [12]\u001b[0m, in \u001b[0;36m<cell line: 4>\u001b[1;34m()\u001b[0m\n\u001b[0;32m      2\u001b[0m b\u001b[38;5;241m=\u001b[39m\u001b[38;5;124m\"\u001b[39m\u001b[38;5;124mpriti\u001b[39m\u001b[38;5;124m\"\u001b[39m\n\u001b[0;32m      3\u001b[0m \u001b[38;5;28mprint\u001b[39m(a,b)\n\u001b[1;32m----> 4\u001b[0m \u001b[38;5;28mprint\u001b[39m(\u001b[43ma\u001b[49m\u001b[38;5;241;43m+\u001b[39;49m\u001b[43mb\u001b[49m)\n",
      "\u001b[1;31mTypeError\u001b[0m: unsupported operand type(s) for +: 'int' and 'str'"
     ]
    }
   ],
   "source": [
    "a=3\n",
    "b=\"priti\"\n",
    "print(a,b)\n",
    "print(a+b)\n"
   ]
  },
  {
   "cell_type": "markdown",
   "id": "3854ba77",
   "metadata": {},
   "source": [
    "## Global variables :"
   ]
  },
  {
   "cell_type": "markdown",
   "id": "b943071c",
   "metadata": {},
   "source": [
    " Global variables :\n",
    " Global variables are defined outside of the function,but we can access global variables both inside and outside of the function.\n",
    " "
   ]
  },
  {
   "cell_type": "code",
   "execution_count": 28,
   "id": "9135a77c",
   "metadata": {},
   "outputs": [
    {
     "name": "stdout",
     "output_type": "stream",
     "text": [
      "Popular language is Python\n",
      "Popular language isPython\n"
     ]
    }
   ],
   "source": [
    "# a is the global variable that is created outside of the function,and use it inside the function\n",
    "\n",
    "a=\"Python\"\n",
    "\n",
    "def fun():\n",
    "    print(\"Popular language is \"+a)\n",
    "\n",
    "fun()\n",
    "print(\"Popular language is\"+a)"
   ]
  },
  {
   "cell_type": "markdown",
   "id": "e618f5d9",
   "metadata": {},
   "source": [
    "## Local variables"
   ]
  },
  {
   "cell_type": "markdown",
   "id": "e204518e",
   "metadata": {},
   "source": [
    "Local variables are initiallized inside a function and belong only to that particular function.\n"
   ]
  },
  {
   "cell_type": "code",
   "execution_count": 21,
   "id": "4a230712",
   "metadata": {},
   "outputs": [
    {
     "name": "stdout",
     "output_type": "stream",
     "text": [
      "10\n"
     ]
    }
   ],
   "source": [
    "def fun():\n",
    "    a=10\n",
    "    print(a)\n",
    "fun()"
   ]
  },
  {
   "cell_type": "code",
   "execution_count": 27,
   "id": "e06bff71",
   "metadata": {},
   "outputs": [
    {
     "ename": "NameError",
     "evalue": "name 'm' is not defined",
     "output_type": "error",
     "traceback": [
      "\u001b[1;31m---------------------------------------------------------------------------\u001b[0m",
      "\u001b[1;31mNameError\u001b[0m                                 Traceback (most recent call last)",
      "Input \u001b[1;32mIn [27]\u001b[0m, in \u001b[0;36m<cell line: 5>\u001b[1;34m()\u001b[0m\n\u001b[0;32m      3\u001b[0m     \u001b[38;5;66;03m#print(m)\u001b[39;00m\n\u001b[0;32m      4\u001b[0m fun()\n\u001b[1;32m----> 5\u001b[0m \u001b[38;5;28mprint\u001b[39m(\u001b[43mm\u001b[49m)\n",
      "\u001b[1;31mNameError\u001b[0m: name 'm' is not defined"
     ]
    }
   ],
   "source": [
    "# we cant access local variable outside of the function.\n",
    "\n",
    "def fun():\n",
    "    m=10\n",
    "    #print(m)\n",
    "fun()\n",
    "print(m)"
   ]
  },
  {
   "cell_type": "code",
   "execution_count": null,
   "id": "e7db2227",
   "metadata": {},
   "outputs": [],
   "source": []
  },
  {
   "cell_type": "code",
   "execution_count": null,
   "id": "02ff44ee",
   "metadata": {},
   "outputs": [],
   "source": []
  }
 ],
 "metadata": {
  "kernelspec": {
   "display_name": "Python 3 (ipykernel)",
   "language": "python",
   "name": "python3"
  },
  "language_info": {
   "codemirror_mode": {
    "name": "ipython",
    "version": 3
   },
   "file_extension": ".py",
   "mimetype": "text/x-python",
   "name": "python",
   "nbconvert_exporter": "python",
   "pygments_lexer": "ipython3",
   "version": "3.9.12"
  }
 },
 "nbformat": 4,
 "nbformat_minor": 5
}
