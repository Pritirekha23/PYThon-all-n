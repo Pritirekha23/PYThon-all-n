{
 "cells": [
  {
   "cell_type": "markdown",
   "id": "e483e016",
   "metadata": {},
   "source": [
    "01Day of 100DaysofCode"
   ]
  },
  {
   "cell_type": "markdown",
   "id": "70d927d8",
   "metadata": {},
   "source": [
    "# PYTHON"
   ]
  },
  {
   "cell_type": "markdown",
   "id": "a2a59b5e",
   "metadata": {},
   "source": [
    "HISTORY::--\n",
    "Guido van Rossum is the father of Python.\n",
    "In 1980's He was started working on python and in 20th feb 1991 at CWI in Netherland he released python 0.9.0.\n",
    "The fact behind choosing the name Python is In 1970's there was a popular BBC comedy show named as \"MONTY PYTHON's FLYING CIRCUS\" .\n",
    "Guido van Rossum was a fan of this comdey show , so he decided to pick the name \"PYTHON\" for his programming language.\n",
    "The idea of Python programming language has taken from ABC programming language."
   ]
  },
  {
   "cell_type": "markdown",
   "id": "4813b439",
   "metadata": {},
   "source": [
    "PYTHON:-\n",
    "Python is a simple, general purpose(by using python we can develop different types of applications)  high-level,robust,object-oriented programming language.\n",
    "it is multipurpose programming language ,because it can be used with web,3D CAD, enterprise etc.\n",
    "In python every new line indicates end of the statement.\n",
    "It is dynamically typed so no need to use data types to declare variable."
   ]
  },
  {
   "cell_type": "code",
   "execution_count": 1,
   "id": "94654dea",
   "metadata": {},
   "outputs": [
    {
     "name": "stdout",
     "output_type": "stream",
     "text": [
      "Hello world\n"
     ]
    }
   ],
   "source": [
    "print(\"Hello world\")"
   ]
  },
  {
   "cell_type": "markdown",
   "id": "d498fadd",
   "metadata": {},
   "source": [
    "By taking different features from languages Guido van Rossum  developed python.\n",
    "Funtional programming from C\n",
    "Object oriented programming from C++\n",
    "Scripting from perl and shell scripting \n",
    "modular programming language from modularity\n"
   ]
  },
  {
   "cell_type": "code",
   "execution_count": null,
   "id": "2519708c",
   "metadata": {},
   "outputs": [],
   "source": []
  },
  {
   "cell_type": "code",
   "execution_count": null,
   "id": "76e188fe",
   "metadata": {},
   "outputs": [],
   "source": []
  },
  {
   "cell_type": "code",
   "execution_count": null,
   "id": "dd620e33",
   "metadata": {},
   "outputs": [],
   "source": []
  },
  {
   "cell_type": "code",
   "execution_count": null,
   "id": "f498f1f1",
   "metadata": {},
   "outputs": [],
   "source": []
  },
  {
   "cell_type": "code",
   "execution_count": null,
   "id": "6cd70510",
   "metadata": {},
   "outputs": [],
   "source": []
  }
 ],
 "metadata": {
  "kernelspec": {
   "display_name": "Python 3 (ipykernel)",
   "language": "python",
   "name": "python3"
  },
  "language_info": {
   "codemirror_mode": {
    "name": "ipython",
    "version": 3
   },
   "file_extension": ".py",
   "mimetype": "text/x-python",
   "name": "python",
   "nbconvert_exporter": "python",
   "pygments_lexer": "ipython3",
   "version": "3.9.12"
  }
 },
 "nbformat": 4,
 "nbformat_minor": 5
}
