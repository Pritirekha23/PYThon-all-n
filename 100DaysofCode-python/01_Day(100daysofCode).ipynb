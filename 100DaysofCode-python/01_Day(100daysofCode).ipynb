{
 "cells": [
  {
   "cell_type": "markdown",
   "id": "e483e016",
   "metadata": {},
   "source": [
    "01Day of 100DaysofCode"
   ]
  },
  {
   "cell_type": "markdown",
   "id": "70d927d8",
   "metadata": {},
   "source": [
    "# PYTHON"
   ]
  },
  {
   "cell_type": "markdown",
   "id": "e40d9a3d",
   "metadata": {},
   "source": [
    "HISTORY::--\n",
    "Guido van Rossum is the father of Python.\n",
    "In 1980's He was started working on python and in 20th feb 1991 at CWI in Netherland he released python 0.9.0.\n",
    "The fact behind choosing the name Python is In 1970's there was a popular BBC comedy show named as \"MONTY PYTHON's FLYING CIRCUS\" .\n",
    "Guido van Rossum was a fan of this comdey show , so he decided to pick the name \"PYTHON\" for his programming language.\n",
    "The idea of Python programming language has taken from ABC programming language."
   ]
  },
  {
   "cell_type": "markdown",
   "id": "329317fa",
   "metadata": {},
   "source": [
    "PYTHON:-\n",
    "Python is a simple, general purpose(by using python we can develop different types of applications)  high-level,robust,object-oriented programming language.\n",
    "it is multipurpose programming language ,because it can be used with web,3D CAD, enterprise etc.\n",
    "In python every new line indicates end of the statement.\n",
    "It is dynamically typed so no need to use data types to declare variable."
   ]
  },
  {
   "cell_type": "code",
   "execution_count": 1,
   "id": "94654dea",
   "metadata": {},
   "outputs": [
    {
     "name": "stdout",
     "output_type": "stream",
     "text": [
      "Hello world\n"
     ]
    }
   ],
   "source": [
    "print(\"Hello world\")"
   ]
  },
  {
   "cell_type": "markdown",
   "id": "30c467b7",
   "metadata": {},
   "source": [
    "By taking different features from languages Guido van Rossum  developed python.\n",
    "Funtional programming from C\n",
    "Object oriented programming from C++\n",
    "Scripting from perl and shell scripting \n",
    "modular programming language from modularity\n"
   ]
  },
  {
   "cell_type": "markdown",
   "id": "36d8475b",
   "metadata": {},
   "source": [
    "## Python indentation"
   ]
  },
  {
   "cell_type": "markdown",
   "id": "d56c50bf",
   "metadata": {},
   "source": [
    "Indentation refers to the spaces at the beginning of a code line.\n",
    "In python Indentation is very important to indicate a block of code.\n",
    "python will give error if we skip indentaation."
   ]
  },
  {
   "cell_type": "code",
   "execution_count": 3,
   "id": "dd620e33",
   "metadata": {},
   "outputs": [
    {
     "name": "stdout",
     "output_type": "stream",
     "text": [
      "Red\n",
      "Red\n",
      "Red\n"
     ]
    }
   ],
   "source": [
    "#VARIABLE\n",
    "# one value multiple variable\n",
    "x=y=z=\"Red\"\n",
    "print(x)\n",
    "print(y)\n",
    "print(z)"
   ]
  },
  {
   "cell_type": "code",
   "execution_count": 6,
   "id": "f498f1f1",
   "metadata": {},
   "outputs": [
    {
     "name": "stdout",
     "output_type": "stream",
     "text": [
      "red\n",
      "green\n",
      "blue\n"
     ]
    }
   ],
   "source": [
    "# many values to multiple variables\n",
    "# number of values=number of variables\n",
    "a,b,c=\"red\",\"green\",\"blue\"\n",
    "print(a)\n",
    "print(b)\n",
    "print(c)"
   ]
  },
  {
   "cell_type": "markdown",
   "id": "0960d003",
   "metadata": {},
   "source": [
    "Unpack a collection ::--\n",
    " Here we can assign elements of list or tuples to multiple     variables.\n",
    " \n",
    " "
   ]
  }
 ],
 "metadata": {
  "kernelspec": {
   "display_name": "Python 3 (ipykernel)",
   "language": "python",
   "name": "python3"
  },
  "language_info": {
   "codemirror_mode": {
    "name": "ipython",
    "version": 3
   },
   "file_extension": ".py",
   "mimetype": "text/x-python",
   "name": "python",
   "nbconvert_exporter": "python",
   "pygments_lexer": "ipython3",
   "version": "3.9.12"
  }
 },
 "nbformat": 4,
 "nbformat_minor": 5
}
