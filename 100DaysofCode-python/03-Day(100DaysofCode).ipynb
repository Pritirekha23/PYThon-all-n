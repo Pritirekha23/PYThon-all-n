{
 "cells": [
  {
   "cell_type": "markdown",
   "id": "f68ce431",
   "metadata": {},
   "source": [
    "04 day of 100DaysofCode"
   ]
  },
  {
   "cell_type": "markdown",
   "id": "7f40b1dc",
   "metadata": {},
   "source": [
    "control statement in python"
   ]
  },
  {
   "cell_type": "code",
   "execution_count": null,
   "id": "1044f8d7",
   "metadata": {},
   "outputs": [],
   "source": []
  },
  {
   "cell_type": "code",
   "execution_count": null,
   "id": "a71ebb23",
   "metadata": {},
   "outputs": [],
   "source": []
  }
 ],
 "metadata": {
  "kernelspec": {
   "display_name": "Python 3 (ipykernel)",
   "language": "python",
   "name": "python3"
  },
  "language_info": {
   "codemirror_mode": {
    "name": "ipython",
    "version": 3
   },
   "file_extension": ".py",
   "mimetype": "text/x-python",
   "name": "python",
   "nbconvert_exporter": "python",
   "pygments_lexer": "ipython3",
   "version": "3.9.12"
  }
 },
 "nbformat": 4,
 "nbformat_minor": 5
}
